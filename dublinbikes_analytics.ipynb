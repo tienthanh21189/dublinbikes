{
  "nbformat": 4,
  "nbformat_minor": 0,
  "metadata": {
    "colab": {
      "name": "Dublin Bikes (BDA_CA4_L00162305).ipynb",
      "provenance": [],
      "collapsed_sections": []
    },
    "kernelspec": {
      "name": "python3",
      "display_name": "Python 3"
    }
  },
  "cells": [
    {
      "cell_type": "code",
      "metadata": {
        "id": "ZNr-qY0r7z6w"
      },
      "source": [
        "# Tien Thanh Nguyen"
      ],
      "execution_count": null,
      "outputs": []
    },
    {
      "cell_type": "markdown",
      "metadata": {
        "id": "OTUONeE-wfff"
      },
      "source": [
        "# CONTENT\n",
        "\n"
      ]
    },
    {
      "cell_type": "markdown",
      "metadata": {
        "id": "n_Hqnv_5yI3T"
      },
      "source": [
        "1. Overview\n",
        "2. Data Preparation\n",
        "3. Data Processing\n",
        "4. Analytics\n",
        " - 4.1. The correlation between bikes IN/OUT a day (using Linear Regression)\n",
        " - 4.2. The number of bikes in use per day\n",
        " - 4.3. The average number of bikes in use by weekday\n",
        " - 4.4. The usage percentage\n",
        " - 4.5. Analyse 116 Stations: using Seaborn, K-means, Support Vector Machines"
      ]
    },
    {
      "cell_type": "markdown",
      "metadata": {
        "id": "0KB6R7-2bkFA"
      },
      "source": [
        "# 1. OVERVIEW"
      ]
    },
    {
      "cell_type": "markdown",
      "metadata": {
        "id": "5hFlDbVw2qzR"
      },
      "source": [
        "##1.1. What is the Dublin Bikes dataset?"
      ]
    },
    {
      "cell_type": "markdown",
      "metadata": {
        "id": "XHnox-xfbrkZ"
      },
      "source": [
        "**Dublin Bikes** is a bike-sharing scheme in operation from bicycle docks and stations in Dublin City. The datasets of Dublin Bikes can be downloaded from https://data.gov.ie/dataset/dublinbikes-api\n",
        "\n",
        "This link also provides an API to get data at any time. However, in the scope of this study, the next segments focus on 10 .CSV resources that have been extracted from the Dublin Bikes database from Q3 2018 to Q4 2020.\n",
        "\n",
        "These datasets save the historic operation of 116 Bike Stations in Dublin with **a 5-minute interval**. It means that every 5 minutes, a new row will be recorded in the database to demonstrate the current operation of a Bike Station at this time including some fields such as station id, time, bikes available, bike stands available, etc.\n",
        "\n",
        "These records were extracted from the database to 10 .csv files relevant to 10 quarters from Q3 2018 to Q4 2020. The total volume of these 10 .csv files is 2.99 GB and the total rows are approximately 26.7 million.\n"
      ]
    },
    {
      "cell_type": "markdown",
      "metadata": {
        "id": "F9DiwSlw2bWN"
      },
      "source": [
        "##1.2. Data dictionary"
      ]
    },
    {
      "cell_type": "markdown",
      "metadata": {
        "id": "SK2PYvzi2YmX"
      },
      "source": [
        "Field Name | Field Type | Field Description\n",
        "--- | --- | ---\n",
        "STATION ID | numeric | Globally unique identifier of station.\n",
        "TIME |\ttimestamp\t| Time of fetching the data.\n",
        "LAST UPDATED | timestamp\t| Time of last updated information.\n",
        "NAME | text | Station name.\n",
        "BIKE STANDS |\tnumeric | Station total number of bike stands.\n",
        "AVAILABLE BIKE | STANDS\tnumeric\t| Station available bike stands.\n",
        "AVAILABLE BIKES |\tnumeric\t| Station available bikes.\n",
        "STATUS |\ttext | Station status (Open/Close).\n",
        "ADDRESS\t| text\t| Station address.\n",
        "LATITUDE |\tnumeric\t| Station latitude.\n",
        "LONGITUDE |\tnumeric\t| Station longitude."
      ]
    },
    {
      "cell_type": "markdown",
      "metadata": {
        "id": "YFWcN5qVk-lX"
      },
      "source": [
        "#2. DATA PREPARATION (combine data from multiple CSV files, filter/clean data)"
      ]
    },
    {
      "cell_type": "markdown",
      "metadata": {
        "id": "lsvmOIjrlcg_"
      },
      "source": [
        "You can use an **ETL tool** such as Google Cloud Dataflow, Pentaho, Talend Open Studio, etc. for data preparation.\n",
        "\n",
        "For example, below is the data preparation processed by **Talend Open Studio**, including 4 steps:\n",
        "*   Create 10 metadata(s) corresponding to the 10 above-mentioned CSV files.\n",
        "*   Create a Talend Job, use a *tUnite* component to combine the data of the 10 metadata(s).\n",
        "*   Next, use a *tMap* component to filter data; split TIME into DATE/HOUR/MINUTE; remove unimportant columns such as LAST UPDATED, STATUS.\n",
        "*   Finally, use a *tFileOutputDelimited* component to save the output data into a new CSV file.\n",
        "\n",
        "\n",
        "\n",
        "---\n",
        "\n",
        "\n",
        "###**The final CSV files for analytics are:**\n",
        "* **dublinbikes_combined_data.csv** (the historic operation data from Q3-2018 to Q4-2020)\n",
        " - Size: 741.6 MB\n",
        " - Length: **~26.7 million rows**\n",
        " - Columns: STATION_ID,\tBIKE_STANDS,\tAVAILABLE_BIKE_STANDS,\tAVAILABLE_BIKES, DATE,\tHOUR,\tMINUTE \n",
        "* **dublinbikes_stations.csv** (list of 116 stations)\n",
        " - Size: 7 KB\n",
        " - Length: **116 rows**\n",
        " - Columns: STATION_ID,\tNAME,\tADDRESS,\tLATITUDE,\tLONGITUDE,\tBIKE_STANDS  \n",
        "\n",
        "**All files are archived in a zip file (dublinbikes_Q3_2018_Q4_2020.zip) which is the input data for this Python Notebook.**\n",
        "\n",
        "You can download this zip file on the link: https://drive.google.com/file/d/1BYp-xskw8d0wC6fsNlvZz65bOdDItawL/view?usp=sharing\n"
      ]
    },
    {
      "cell_type": "markdown",
      "metadata": {
        "id": "WyKhZasImrXG"
      },
      "source": [
        "# 3. DATA PROCESSING"
      ]
    },
    {
      "cell_type": "markdown",
      "metadata": {
        "id": "YcxwLnJP0F9p"
      },
      "source": [
        "##3.1. Uploading the input data to Google Colab, read data and assign to a DataFrame for coding"
      ]
    },
    {
      "cell_type": "code",
      "metadata": {
        "id": "sH-ppgblVBga"
      },
      "source": [
        "%matplotlib inline\n",
        "import pandas as pd\n",
        "import numpy as np"
      ],
      "execution_count": null,
      "outputs": []
    },
    {
      "cell_type": "code",
      "metadata": {
        "colab": {
          "resources": {
            "http://localhost:8080/nbextensions/google.colab/files.js": {
              "data": "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",
              "ok": true,
              "headers": [
                [
                  "content-type",
                  "application/javascript"
                ]
              ],
              "status": 200,
              "status_text": ""
            }
          },
          "base_uri": "https://localhost:8080/",
          "height": 197
        },
        "id": "PlRk0bMGzTrF",
        "outputId": "a6ff6055-6bbe-4439-d50f-20c6b4b2cb5f"
      },
      "source": [
        "# Link download file: https://drive.google.com/file/d/1BYp-xskw8d0wC6fsNlvZz65bOdDItawL/view?usp=sharing\n",
        "\n",
        "from google.colab import files\n",
        "uploaded = files.upload()\n",
        "\n",
        "!unzip /content/dublinbikes_Q3_2018_Q4_2020.zip\n",
        "\n",
        "# Beside two CSVs has been mentioned above (dublinbikes_combined_data.csv and dublinbikes_stations.csv),\n",
        "# you can see the third CSV file: dublinbikes_daily_in_out.csv\n",
        "# In the next section (3.2.2), it will be clarified"
      ],
      "execution_count": null,
      "outputs": [
        {
          "output_type": "display_data",
          "data": {
            "text/html": [
              "\n",
              "     <input type=\"file\" id=\"files-f54e8ed6-8d7e-44d6-86b0-8d838553ef11\" name=\"files[]\" multiple disabled\n",
              "        style=\"border:none\" />\n",
              "     <output id=\"result-f54e8ed6-8d7e-44d6-86b0-8d838553ef11\">\n",
              "      Upload widget is only available when the cell has been executed in the\n",
              "      current browser session. Please rerun this cell to enable.\n",
              "      </output>\n",
              "      <script src=\"/nbextensions/google.colab/files.js\"></script> "
            ],
            "text/plain": [
              "<IPython.core.display.HTML object>"
            ]
          },
          "metadata": {
            "tags": []
          }
        },
        {
          "output_type": "stream",
          "text": [
            "Saving dublinbikes_Q3_2018_Q4_2020.zip to dublinbikes_Q3_2018_Q4_2020.zip\n",
            "Archive:  /content/dublinbikes_Q3_2018_Q4_2020.zip\n",
            "  inflating: dublinbikes_combined_data.csv  \n",
            "  inflating: __MACOSX/._dublinbikes_combined_data.csv  \n",
            "  inflating: dublinbikes_daily_in_out.csv  \n",
            "  inflating: __MACOSX/._dublinbikes_daily_in_out.csv  \n",
            "  inflating: dublinbikes_stations.csv  \n",
            "  inflating: __MACOSX/._dublinbikes_stations.csv  \n"
          ],
          "name": "stdout"
        }
      ]
    },
    {
      "cell_type": "code",
      "metadata": {
        "id": "FZBYHBUgwH9O",
        "colab": {
          "base_uri": "https://localhost:8080/",
          "height": 406
        },
        "outputId": "6db0be17-7128-44b5-8ab5-f74d8fe5d06b"
      },
      "source": [
        "# Load list of stations\n",
        "stations_df = pd.read_csv('dublinbikes_stations.csv')\n",
        "stations_df"
      ],
      "execution_count": null,
      "outputs": [
        {
          "output_type": "execute_result",
          "data": {
            "text/html": [
              "<div>\n",
              "<style scoped>\n",
              "    .dataframe tbody tr th:only-of-type {\n",
              "        vertical-align: middle;\n",
              "    }\n",
              "\n",
              "    .dataframe tbody tr th {\n",
              "        vertical-align: top;\n",
              "    }\n",
              "\n",
              "    .dataframe thead th {\n",
              "        text-align: right;\n",
              "    }\n",
              "</style>\n",
              "<table border=\"1\" class=\"dataframe\">\n",
              "  <thead>\n",
              "    <tr style=\"text-align: right;\">\n",
              "      <th></th>\n",
              "      <th>STATION_ID</th>\n",
              "      <th>NAME</th>\n",
              "      <th>ADDRESS</th>\n",
              "      <th>LATITUDE</th>\n",
              "      <th>LONGITUDE</th>\n",
              "      <th>BIKE_STANDS</th>\n",
              "    </tr>\n",
              "  </thead>\n",
              "  <tbody>\n",
              "    <tr>\n",
              "      <th>0</th>\n",
              "      <td>1</td>\n",
              "      <td>CLARENDON ROW</td>\n",
              "      <td>Clarendon Row</td>\n",
              "      <td>53.340927</td>\n",
              "      <td>-6.262501</td>\n",
              "      <td>31</td>\n",
              "    </tr>\n",
              "    <tr>\n",
              "      <th>1</th>\n",
              "      <td>2</td>\n",
              "      <td>BLESSINGTON STREET</td>\n",
              "      <td>Blessington Street</td>\n",
              "      <td>53.356770</td>\n",
              "      <td>-6.268140</td>\n",
              "      <td>20</td>\n",
              "    </tr>\n",
              "    <tr>\n",
              "      <th>2</th>\n",
              "      <td>3</td>\n",
              "      <td>BOLTON STREET</td>\n",
              "      <td>Bolton Street</td>\n",
              "      <td>53.351180</td>\n",
              "      <td>-6.269859</td>\n",
              "      <td>20</td>\n",
              "    </tr>\n",
              "    <tr>\n",
              "      <th>3</th>\n",
              "      <td>4</td>\n",
              "      <td>GREEK STREET</td>\n",
              "      <td>Greek Street</td>\n",
              "      <td>53.346874</td>\n",
              "      <td>-6.272976</td>\n",
              "      <td>20</td>\n",
              "    </tr>\n",
              "    <tr>\n",
              "      <th>4</th>\n",
              "      <td>5</td>\n",
              "      <td>CHARLEMONT PLACE</td>\n",
              "      <td>Charlemont Street</td>\n",
              "      <td>53.330660</td>\n",
              "      <td>-6.260177</td>\n",
              "      <td>40</td>\n",
              "    </tr>\n",
              "    <tr>\n",
              "      <th>...</th>\n",
              "      <td>...</td>\n",
              "      <td>...</td>\n",
              "      <td>...</td>\n",
              "      <td>...</td>\n",
              "      <td>...</td>\n",
              "      <td>...</td>\n",
              "    </tr>\n",
              "    <tr>\n",
              "      <th>111</th>\n",
              "      <td>113</td>\n",
              "      <td>MERRION SQUARE SOUTH</td>\n",
              "      <td>Merrion Square South</td>\n",
              "      <td>53.338615</td>\n",
              "      <td>-6.248606</td>\n",
              "      <td>40</td>\n",
              "    </tr>\n",
              "    <tr>\n",
              "      <th>112</th>\n",
              "      <td>114</td>\n",
              "      <td>WILTON TERRACE (PARK)</td>\n",
              "      <td>Wilton Terrace (Park)</td>\n",
              "      <td>53.333652</td>\n",
              "      <td>-6.248345</td>\n",
              "      <td>40</td>\n",
              "    </tr>\n",
              "    <tr>\n",
              "      <th>113</th>\n",
              "      <td>115</td>\n",
              "      <td>KILLARNEY STREET</td>\n",
              "      <td>Killarney Street</td>\n",
              "      <td>53.354843</td>\n",
              "      <td>-6.247579</td>\n",
              "      <td>30</td>\n",
              "    </tr>\n",
              "    <tr>\n",
              "      <th>114</th>\n",
              "      <td>116</td>\n",
              "      <td>BROADSTONE</td>\n",
              "      <td>Broadstone</td>\n",
              "      <td>53.354700</td>\n",
              "      <td>-6.272314</td>\n",
              "      <td>30</td>\n",
              "    </tr>\n",
              "    <tr>\n",
              "      <th>115</th>\n",
              "      <td>117</td>\n",
              "      <td>HANOVER QUAY EAST</td>\n",
              "      <td>Hanover Quay East</td>\n",
              "      <td>53.343655</td>\n",
              "      <td>-6.231755</td>\n",
              "      <td>40</td>\n",
              "    </tr>\n",
              "  </tbody>\n",
              "</table>\n",
              "<p>116 rows × 6 columns</p>\n",
              "</div>"
            ],
            "text/plain": [
              "     STATION_ID                   NAME  ... LONGITUDE  BIKE_STANDS\n",
              "0             1          CLARENDON ROW  ... -6.262501           31\n",
              "1             2     BLESSINGTON STREET  ... -6.268140           20\n",
              "2             3          BOLTON STREET  ... -6.269859           20\n",
              "3             4           GREEK STREET  ... -6.272976           20\n",
              "4             5       CHARLEMONT PLACE  ... -6.260177           40\n",
              "..          ...                    ...  ...       ...          ...\n",
              "111         113   MERRION SQUARE SOUTH  ... -6.248606           40\n",
              "112         114  WILTON TERRACE (PARK)  ... -6.248345           40\n",
              "113         115       KILLARNEY STREET  ... -6.247579           30\n",
              "114         116             BROADSTONE  ... -6.272314           30\n",
              "115         117      HANOVER QUAY EAST  ... -6.231755           40\n",
              "\n",
              "[116 rows x 6 columns]"
            ]
          },
          "metadata": {
            "tags": []
          },
          "execution_count": 33
        }
      ]
    },
    {
      "cell_type": "code",
      "metadata": {
        "colab": {
          "base_uri": "https://localhost:8080/",
          "height": 287
        },
        "id": "CjIESFJ3QmT5",
        "outputId": "189888ba-be6f-41b9-aa86-3bf48fcab8ea"
      },
      "source": [
        "# Load the historic operation data from Q3-2018 to Q4-2020\n",
        "df = pd.read_csv('dublinbikes_combined_data.csv')\n",
        "\n",
        "# Remove duplicated rows\n",
        "#   + Before: ~26.7 million rows\n",
        "#   + After: ~26.5 million rows\n",
        "#   + It has duplicated rows because in the original CSV files, the end date of the 1st file is also the start date of the 2nd file and so on\n",
        "#   + e.i.\n",
        "#     + Q3 2018: dublinbikes_20180701_20181001.csv\n",
        "#     + Q4 2018: dublinbikes_20181001_20190101.csv\n",
        "#     + Duplicated rows in 2018-10-01\n",
        "df.drop_duplicates(inplace=True)\n",
        "\n",
        "# Convert the column \"DATE\" from string to datetime\n",
        "df['DATE'] = pd.to_datetime(df['DATE'], format='%Y-%m-%d')\n",
        "\n",
        "df.describe()"
      ],
      "execution_count": null,
      "outputs": [
        {
          "output_type": "execute_result",
          "data": {
            "text/html": [
              "<div>\n",
              "<style scoped>\n",
              "    .dataframe tbody tr th:only-of-type {\n",
              "        vertical-align: middle;\n",
              "    }\n",
              "\n",
              "    .dataframe tbody tr th {\n",
              "        vertical-align: top;\n",
              "    }\n",
              "\n",
              "    .dataframe thead th {\n",
              "        text-align: right;\n",
              "    }\n",
              "</style>\n",
              "<table border=\"1\" class=\"dataframe\">\n",
              "  <thead>\n",
              "    <tr style=\"text-align: right;\">\n",
              "      <th></th>\n",
              "      <th>STATION_ID</th>\n",
              "      <th>BIKE_STANDS</th>\n",
              "      <th>AVAILABLE_BIKE_STANDS</th>\n",
              "      <th>AVAILABLE_BIKES</th>\n",
              "      <th>HOUR</th>\n",
              "      <th>MINUTE</th>\n",
              "    </tr>\n",
              "  </thead>\n",
              "  <tbody>\n",
              "    <tr>\n",
              "      <th>count</th>\n",
              "      <td>2.655697e+07</td>\n",
              "      <td>2.655697e+07</td>\n",
              "      <td>2.655697e+07</td>\n",
              "      <td>2.655697e+07</td>\n",
              "      <td>2.655697e+07</td>\n",
              "      <td>2.655697e+07</td>\n",
              "    </tr>\n",
              "    <tr>\n",
              "      <th>mean</th>\n",
              "      <td>5.933679e+01</td>\n",
              "      <td>3.209601e+01</td>\n",
              "      <td>2.050313e+01</td>\n",
              "      <td>1.135692e+01</td>\n",
              "      <td>1.148872e+01</td>\n",
              "      <td>2.750023e+01</td>\n",
              "    </tr>\n",
              "    <tr>\n",
              "      <th>std</th>\n",
              "      <td>3.330804e+01</td>\n",
              "      <td>7.600869e+00</td>\n",
              "      <td>1.150320e+01</td>\n",
              "      <td>1.024440e+01</td>\n",
              "      <td>6.914114e+00</td>\n",
              "      <td>1.726121e+01</td>\n",
              "    </tr>\n",
              "    <tr>\n",
              "      <th>min</th>\n",
              "      <td>1.000000e+00</td>\n",
              "      <td>1.600000e+01</td>\n",
              "      <td>0.000000e+00</td>\n",
              "      <td>0.000000e+00</td>\n",
              "      <td>0.000000e+00</td>\n",
              "      <td>0.000000e+00</td>\n",
              "    </tr>\n",
              "    <tr>\n",
              "      <th>25%</th>\n",
              "      <td>3.100000e+01</td>\n",
              "      <td>2.900000e+01</td>\n",
              "      <td>1.200000e+01</td>\n",
              "      <td>2.000000e+00</td>\n",
              "      <td>6.000000e+00</td>\n",
              "      <td>1.000000e+01</td>\n",
              "    </tr>\n",
              "    <tr>\n",
              "      <th>50%</th>\n",
              "      <td>5.900000e+01</td>\n",
              "      <td>3.000000e+01</td>\n",
              "      <td>2.000000e+01</td>\n",
              "      <td>9.000000e+00</td>\n",
              "      <td>1.100000e+01</td>\n",
              "      <td>3.000000e+01</td>\n",
              "    </tr>\n",
              "    <tr>\n",
              "      <th>75%</th>\n",
              "      <td>8.800000e+01</td>\n",
              "      <td>4.000000e+01</td>\n",
              "      <td>3.000000e+01</td>\n",
              "      <td>1.800000e+01</td>\n",
              "      <td>1.700000e+01</td>\n",
              "      <td>4.500000e+01</td>\n",
              "    </tr>\n",
              "    <tr>\n",
              "      <th>max</th>\n",
              "      <td>1.170000e+02</td>\n",
              "      <td>4.000000e+01</td>\n",
              "      <td>5.600000e+01</td>\n",
              "      <td>4.300000e+01</td>\n",
              "      <td>2.300000e+01</td>\n",
              "      <td>5.500000e+01</td>\n",
              "    </tr>\n",
              "  </tbody>\n",
              "</table>\n",
              "</div>"
            ],
            "text/plain": [
              "         STATION_ID   BIKE_STANDS  ...          HOUR        MINUTE\n",
              "count  2.655697e+07  2.655697e+07  ...  2.655697e+07  2.655697e+07\n",
              "mean   5.933679e+01  3.209601e+01  ...  1.148872e+01  2.750023e+01\n",
              "std    3.330804e+01  7.600869e+00  ...  6.914114e+00  1.726121e+01\n",
              "min    1.000000e+00  1.600000e+01  ...  0.000000e+00  0.000000e+00\n",
              "25%    3.100000e+01  2.900000e+01  ...  6.000000e+00  1.000000e+01\n",
              "50%    5.900000e+01  3.000000e+01  ...  1.100000e+01  3.000000e+01\n",
              "75%    8.800000e+01  4.000000e+01  ...  1.700000e+01  4.500000e+01\n",
              "max    1.170000e+02  4.000000e+01  ...  2.300000e+01  5.500000e+01\n",
              "\n",
              "[8 rows x 6 columns]"
            ]
          },
          "metadata": {
            "tags": []
          },
          "execution_count": 34
        }
      ]
    },
    {
      "cell_type": "markdown",
      "metadata": {
        "id": "CfZ_UFLj3C6G"
      },
      "source": [
        "##3.2. Caculate the level of traffic on an daily basis (Bikes IN & Bikes OUT per day of a specific STATION)"
      ]
    },
    {
      "cell_type": "markdown",
      "metadata": {
        "id": "Lvi2AcR30eM0"
      },
      "source": [
        "BIKE_STANDS is always equal to AVAILABLE_BIKE_STANDS plus AVAILABLE_BIKES at any time *(Station total number of bike stands = Station available bike stands + Station available bikes)*.\n",
        "\n",
        "So, the increase of AVAILABLE_BIKES is equal to the decrease of AVAILABLE_BIKE_STANDS and vice versa.\n",
        "\n",
        "**Moreover, as the data has been sorted by time, we can use only the columns AVAILABLE_BIKES to calculate the Bikes IN and Bikes OUT per day** (based on an increase or decrease of the \"Station available bike stands\" in comparison with the previous record)\n",
        "\n"
      ]
    },
    {
      "cell_type": "markdown",
      "metadata": {
        "id": "qfpjMYGQhSa0"
      },
      "source": [
        "###3.2.1. Function to convert the historic operation to the level of traffic per day"
      ]
    },
    {
      "cell_type": "markdown",
      "metadata": {
        "id": "D0Bybu21h9ba"
      },
      "source": [
        "Function name: **parse_Bikes_Int_Out**\n",
        "* *Parameter*: A DataFrame with a column AVAILABLE_BIKES (input_df is the historic operation of a BIKE STATION in a specific DAY with a 5-minute interval. input_df has approximately 24*60/5 = 288 rows) \n",
        "* *Output*: The function will return a List with two values:\n",
        " - 1st value is the Bikes IN of this day\n",
        " - 2nd value is the Bikes OUT of this day\n",
        "* *Algorithms*:\n",
        " - All rows in Dublin Bikes CSV files have been saved in chronological order. So, the DataFrame parameter does too.\n",
        " - Loop all rows of the DataFrame: compare the AVAILABLE_BIKES value of the current row with the AVAILABLE_BIKES value of the previous row. The difference value will be added to Bikes IN if this value is positive. Otherwise, add to Bikes OUT.\n",
        "\n",
        "* However, for better performance, we can transform DataFame instead of using Loop:\n",
        " - input_df['AVAILABLE_BIKES'] has n rows from k0 to k(n-1) \n",
        " - create new columns input_df['NEXT_AVAILABLE_BIKES'] has n-1 rows from k1 to k(n-2) and the last row is equal to input_df['AVAILABLE_BIKES'][last_row]\n",
        " - input_df['IN_OUT'] = input_df['NEXT_AVAILABLE_BIKES'] - input_df['AVAILABLE_BIKES'].\n",
        " - SUM positive values for Bikes IN\n",
        " - SUM negative values for Bikes OUT"
      ]
    },
    {
      "cell_type": "code",
      "metadata": {
        "id": "gLoBFuEqP-DI"
      },
      "source": [
        "def parse_Bikes_Int_Out(input_df):\n",
        "  s = input_df['AVAILABLE_BIKES'].copy()\n",
        "  a = s.pop(0)\n",
        "  s2 = pd.Series([s[len(s)]])\n",
        "  s = s.append(s2)\n",
        "  s = s.reset_index(drop=True)\n",
        "  input_df['NEXT_AVAILABLE_BIKES'] = s\n",
        "  input_df['IN_OUT'] = input_df['NEXT_AVAILABLE_BIKES'] - input_df['AVAILABLE_BIKES']\n",
        "  _in = input_df[input_df['IN_OUT'] > 0]['IN_OUT'].sum()\n",
        "  _out = -input_df[input_df['IN_OUT'] < 0]['IN_OUT'].sum()\n",
        "  return [_in, _out]"
      ],
      "execution_count": null,
      "outputs": []
    },
    {
      "cell_type": "markdown",
      "metadata": {
        "id": "fICmGfUelnwt"
      },
      "source": [
        "###3.2.2. The level of traffic per day of all STATIONS"
      ]
    },
    {
      "cell_type": "code",
      "metadata": {
        "colab": {
          "base_uri": "https://localhost:8080/",
          "height": 406
        },
        "id": "JRvJHmO1y7DL",
        "outputId": "72f25a1c-0c72-42a8-b94f-6ca3bf360354"
      },
      "source": [
        "# Initial bikes_in_out\n",
        "bikes_in_out = df[['STATION_ID','DATE']].copy()\n",
        "bikes_in_out.drop_duplicates(inplace=True)\n",
        "bikes_in_out.reset_index(inplace=True)\n",
        "bikes_in_out.drop(axis=1, columns='index', inplace=True)\n",
        "bikes_in_out['BIKES_IN'] = 0\n",
        "bikes_in_out['BIKES_OUT'] = 0\n",
        "bikes_in_out\n",
        "\n",
        "# You can see that the start date is 2018-08-01 and the end date is 2021-01-01\n",
        "# Suprised?\n",
        "# I don't know why but in the orginal .csv file of Q3-2018, the dataset starts from 2018-08-01.\n",
        "# And in the .csv file of Q4-2020, the end date is 2021-01-01."
      ],
      "execution_count": null,
      "outputs": [
        {
          "output_type": "execute_result",
          "data": {
            "text/html": [
              "<div>\n",
              "<style scoped>\n",
              "    .dataframe tbody tr th:only-of-type {\n",
              "        vertical-align: middle;\n",
              "    }\n",
              "\n",
              "    .dataframe tbody tr th {\n",
              "        vertical-align: top;\n",
              "    }\n",
              "\n",
              "    .dataframe thead th {\n",
              "        text-align: right;\n",
              "    }\n",
              "</style>\n",
              "<table border=\"1\" class=\"dataframe\">\n",
              "  <thead>\n",
              "    <tr style=\"text-align: right;\">\n",
              "      <th></th>\n",
              "      <th>STATION_ID</th>\n",
              "      <th>DATE</th>\n",
              "      <th>BIKES_IN</th>\n",
              "      <th>BIKES_OUT</th>\n",
              "    </tr>\n",
              "  </thead>\n",
              "  <tbody>\n",
              "    <tr>\n",
              "      <th>0</th>\n",
              "      <td>1</td>\n",
              "      <td>2018-08-01</td>\n",
              "      <td>0</td>\n",
              "      <td>0</td>\n",
              "    </tr>\n",
              "    <tr>\n",
              "      <th>1</th>\n",
              "      <td>2</td>\n",
              "      <td>2018-08-01</td>\n",
              "      <td>0</td>\n",
              "      <td>0</td>\n",
              "    </tr>\n",
              "    <tr>\n",
              "      <th>2</th>\n",
              "      <td>3</td>\n",
              "      <td>2018-08-01</td>\n",
              "      <td>0</td>\n",
              "      <td>0</td>\n",
              "    </tr>\n",
              "    <tr>\n",
              "      <th>3</th>\n",
              "      <td>4</td>\n",
              "      <td>2018-08-01</td>\n",
              "      <td>0</td>\n",
              "      <td>0</td>\n",
              "    </tr>\n",
              "    <tr>\n",
              "      <th>4</th>\n",
              "      <td>5</td>\n",
              "      <td>2018-08-01</td>\n",
              "      <td>0</td>\n",
              "      <td>0</td>\n",
              "    </tr>\n",
              "    <tr>\n",
              "      <th>...</th>\n",
              "      <td>...</td>\n",
              "      <td>...</td>\n",
              "      <td>...</td>\n",
              "      <td>...</td>\n",
              "    </tr>\n",
              "    <tr>\n",
              "      <th>93744</th>\n",
              "      <td>113</td>\n",
              "      <td>2021-01-01</td>\n",
              "      <td>0</td>\n",
              "      <td>0</td>\n",
              "    </tr>\n",
              "    <tr>\n",
              "      <th>93745</th>\n",
              "      <td>114</td>\n",
              "      <td>2021-01-01</td>\n",
              "      <td>0</td>\n",
              "      <td>0</td>\n",
              "    </tr>\n",
              "    <tr>\n",
              "      <th>93746</th>\n",
              "      <td>115</td>\n",
              "      <td>2021-01-01</td>\n",
              "      <td>0</td>\n",
              "      <td>0</td>\n",
              "    </tr>\n",
              "    <tr>\n",
              "      <th>93747</th>\n",
              "      <td>116</td>\n",
              "      <td>2021-01-01</td>\n",
              "      <td>0</td>\n",
              "      <td>0</td>\n",
              "    </tr>\n",
              "    <tr>\n",
              "      <th>93748</th>\n",
              "      <td>117</td>\n",
              "      <td>2021-01-01</td>\n",
              "      <td>0</td>\n",
              "      <td>0</td>\n",
              "    </tr>\n",
              "  </tbody>\n",
              "</table>\n",
              "<p>93749 rows × 4 columns</p>\n",
              "</div>"
            ],
            "text/plain": [
              "       STATION_ID       DATE  BIKES_IN  BIKES_OUT\n",
              "0               1 2018-08-01         0          0\n",
              "1               2 2018-08-01         0          0\n",
              "2               3 2018-08-01         0          0\n",
              "3               4 2018-08-01         0          0\n",
              "4               5 2018-08-01         0          0\n",
              "...           ...        ...       ...        ...\n",
              "93744         113 2021-01-01         0          0\n",
              "93745         114 2021-01-01         0          0\n",
              "93746         115 2021-01-01         0          0\n",
              "93747         116 2021-01-01         0          0\n",
              "93748         117 2021-01-01         0          0\n",
              "\n",
              "[93749 rows x 4 columns]"
            ]
          },
          "metadata": {
            "tags": []
          },
          "execution_count": 36
        }
      ]
    },
    {
      "cell_type": "code",
      "metadata": {
        "id": "zxpKIIL5SRjy"
      },
      "source": [
        "# Slicing data from df for calculating the level of traffic per day of all STATIONS\n",
        "sub_df = df[['STATION_ID','DATE','AVAILABLE_BIKES']]"
      ],
      "execution_count": null,
      "outputs": []
    },
    {
      "cell_type": "code",
      "metadata": {
        "id": "dNu45cji0A_7"
      },
      "source": [
        "# ===================================================\n",
        "# NOTES: THE DATA IS QUITE BIG\n",
        "# WE NEED TO SLICE 93749 TIMES (length of bikes_in_out) FROM A DATAFRAME \"SUB_DF\" WITH ~ 26.7 MILLIONS ROWS, \n",
        "# THEN TRANSFORM TMP_DATA TO CALCULATE THE BIKES IN, BIKES OUT\n",
        "# IT TAKES ~ 1.5 HOURS.\n",
        "# THEREFORE I RECOMMEND YOU NOT TO RUN THIS CELL\n",
        "# YOU SHOULD RUN THE NEXT CELL (GET DATA FROM dublinbikes_daily_in_out.csv)\n",
        "# dublinbikes_daily_in_out.csv IS THE DATA OF THE DATAFRAME bikes_in_out THAT HAS BEEN DONE AFTER RUNNING BELOW LOOP ON MY COMPUTER\n",
        "# ===================================================\n",
        "\n",
        "range_ = bikes_in_out.index.tolist()\n",
        "# from 0 to 93748\n",
        "\n",
        "# Loop all 93749 rows for calculating the level of traffic per day of all STATIONS \n",
        "for i in range_:\n",
        "  stationId = bikes_in_out.at[i,'STATION_ID']\n",
        "  date = bikes_in_out.at[i,'DATE']\n",
        "\n",
        "  # The historic operation of a specific station in a particular day\n",
        "  tmp_data = sub_df[(sub_df['STATION_ID'] == stationId) & (sub_df['DATE'] == date)][['AVAILABLE_BIKES']].reset_index()\n",
        "\n",
        "  if (tmp_data.empty):\n",
        "    bikes_in_out.at[i,'BIKES_IN'] = 0\n",
        "    bikes_in_out.at[i,'BIKES_OUT'] = 0\n",
        "  else:\n",
        "    tmp_data.drop(columns='index', axis=1, inplace=True)\n",
        "    # Call the parse_Bikes_Int_Out function to caculate the level of traffic per day\n",
        "    output = parse_Bikes_Int_Out(tmp_data)\n",
        "    bikes_in_out.at[i,'BIKES_IN'] = output[0]\n",
        "    bikes_in_out.at[i,'BIKES_OUT'] = output[1]"
      ],
      "execution_count": null,
      "outputs": []
    },
    {
      "cell_type": "code",
      "metadata": {
        "colab": {
          "base_uri": "https://localhost:8080/",
          "height": 406
        },
        "id": "gtyrPbyR-aJ3",
        "outputId": "00a1b9e0-86d3-4e17-87b4-3d38382a2070"
      },
      "source": [
        "bikes_in_out = pd.read_csv('dublinbikes_daily_in_out.csv')\n",
        "bikes_in_out['DATE'] = pd.to_datetime(bikes_in_out['DATE'], format='%d/%m/%Y')\n",
        "\n",
        "bikes_in_out"
      ],
      "execution_count": null,
      "outputs": [
        {
          "output_type": "execute_result",
          "data": {
            "text/html": [
              "<div>\n",
              "<style scoped>\n",
              "    .dataframe tbody tr th:only-of-type {\n",
              "        vertical-align: middle;\n",
              "    }\n",
              "\n",
              "    .dataframe tbody tr th {\n",
              "        vertical-align: top;\n",
              "    }\n",
              "\n",
              "    .dataframe thead th {\n",
              "        text-align: right;\n",
              "    }\n",
              "</style>\n",
              "<table border=\"1\" class=\"dataframe\">\n",
              "  <thead>\n",
              "    <tr style=\"text-align: right;\">\n",
              "      <th></th>\n",
              "      <th>STATION_ID</th>\n",
              "      <th>DATE</th>\n",
              "      <th>BIKES_IN</th>\n",
              "      <th>BIKES_OUT</th>\n",
              "    </tr>\n",
              "  </thead>\n",
              "  <tbody>\n",
              "    <tr>\n",
              "      <th>0</th>\n",
              "      <td>1</td>\n",
              "      <td>2018-08-01</td>\n",
              "      <td>56</td>\n",
              "      <td>73</td>\n",
              "    </tr>\n",
              "    <tr>\n",
              "      <th>1</th>\n",
              "      <td>2</td>\n",
              "      <td>2018-08-01</td>\n",
              "      <td>33</td>\n",
              "      <td>18</td>\n",
              "    </tr>\n",
              "    <tr>\n",
              "      <th>2</th>\n",
              "      <td>3</td>\n",
              "      <td>2018-08-01</td>\n",
              "      <td>31</td>\n",
              "      <td>28</td>\n",
              "    </tr>\n",
              "    <tr>\n",
              "      <th>3</th>\n",
              "      <td>4</td>\n",
              "      <td>2018-08-01</td>\n",
              "      <td>19</td>\n",
              "      <td>27</td>\n",
              "    </tr>\n",
              "    <tr>\n",
              "      <th>4</th>\n",
              "      <td>5</td>\n",
              "      <td>2018-08-01</td>\n",
              "      <td>93</td>\n",
              "      <td>78</td>\n",
              "    </tr>\n",
              "    <tr>\n",
              "      <th>...</th>\n",
              "      <td>...</td>\n",
              "      <td>...</td>\n",
              "      <td>...</td>\n",
              "      <td>...</td>\n",
              "    </tr>\n",
              "    <tr>\n",
              "      <th>93744</th>\n",
              "      <td>113</td>\n",
              "      <td>2021-01-01</td>\n",
              "      <td>1</td>\n",
              "      <td>1</td>\n",
              "    </tr>\n",
              "    <tr>\n",
              "      <th>93745</th>\n",
              "      <td>114</td>\n",
              "      <td>2021-01-01</td>\n",
              "      <td>5</td>\n",
              "      <td>10</td>\n",
              "    </tr>\n",
              "    <tr>\n",
              "      <th>93746</th>\n",
              "      <td>115</td>\n",
              "      <td>2021-01-01</td>\n",
              "      <td>10</td>\n",
              "      <td>20</td>\n",
              "    </tr>\n",
              "    <tr>\n",
              "      <th>93747</th>\n",
              "      <td>116</td>\n",
              "      <td>2021-01-01</td>\n",
              "      <td>5</td>\n",
              "      <td>9</td>\n",
              "    </tr>\n",
              "    <tr>\n",
              "      <th>93748</th>\n",
              "      <td>117</td>\n",
              "      <td>2021-01-01</td>\n",
              "      <td>1</td>\n",
              "      <td>1</td>\n",
              "    </tr>\n",
              "  </tbody>\n",
              "</table>\n",
              "<p>93749 rows × 4 columns</p>\n",
              "</div>"
            ],
            "text/plain": [
              "       STATION_ID       DATE  BIKES_IN  BIKES_OUT\n",
              "0               1 2018-08-01        56         73\n",
              "1               2 2018-08-01        33         18\n",
              "2               3 2018-08-01        31         28\n",
              "3               4 2018-08-01        19         27\n",
              "4               5 2018-08-01        93         78\n",
              "...           ...        ...       ...        ...\n",
              "93744         113 2021-01-01         1          1\n",
              "93745         114 2021-01-01         5         10\n",
              "93746         115 2021-01-01        10         20\n",
              "93747         116 2021-01-01         5          9\n",
              "93748         117 2021-01-01         1          1\n",
              "\n",
              "[93749 rows x 4 columns]"
            ]
          },
          "metadata": {
            "tags": []
          },
          "execution_count": 38
        }
      ]
    },
    {
      "cell_type": "markdown",
      "metadata": {
        "id": "EjKYH0XizIwy"
      },
      "source": [
        "# 4. ANALYTICS"
      ]
    },
    {
      "cell_type": "markdown",
      "metadata": {
        "id": "vos4RmX-BGTV"
      },
      "source": [
        "##4.1. The correlation between Bikes IN and Bikes OUT per day"
      ]
    },
    {
      "cell_type": "markdown",
      "metadata": {
        "id": "fQYV2SyjCWvo"
      },
      "source": [
        "Linear Regression techniques is used to show a roughly linear relationship between Bikes IN and Bikes OUT"
      ]
    },
    {
      "cell_type": "code",
      "metadata": {
        "colab": {
          "base_uri": "https://localhost:8080/",
          "height": 282
        },
        "id": "WdzDpsnRBXI9",
        "outputId": "7e3d51ad-0adb-4e0f-aa54-dc936287e765"
      },
      "source": [
        "from pylab import *\n",
        "\n",
        "scatter(bikes_in_out['BIKES_IN'], bikes_in_out['BIKES_OUT'])"
      ],
      "execution_count": null,
      "outputs": [
        {
          "output_type": "execute_result",
          "data": {
            "text/plain": [
              "<matplotlib.collections.PathCollection at 0x7ffa11351490>"
            ]
          },
          "metadata": {
            "tags": []
          },
          "execution_count": 39
        },
        {
          "output_type": "display_data",
          "data": {
            "image/png": "[encoded data removed]",
            "text/plain": [
              "<Figure size 432x288 with 1 Axes>"
            ]
          },
          "metadata": {
            "tags": [],
            "needs_background": "light"
          }
        }
      ]
    },
    {
      "cell_type": "code",
      "metadata": {
        "colab": {
          "base_uri": "https://localhost:8080/"
        },
        "id": "-Qhf_BvDByVg",
        "outputId": "16e19516-e463-4589-e10b-153e20fa58ee"
      },
      "source": [
        "from scipy import stats\n",
        "from numpy import float\n",
        "\n",
        "slope, intercept, r_value, p_value, std_err = stats.linregress(bikes_in_out['BIKES_IN'].astype(float), bikes_in_out['BIKES_OUT'].astype(float))\n",
        "# Show the linear equation\n",
        "print('Linear Equation: Y = ' + str(\"{:.5f}\".format(slope)) + 'X + ' + str(\"{:.5f}\".format(intercept)))\n",
        "\n",
        "print(r_value ** 2)"
      ],
      "execution_count": null,
      "outputs": [
        {
          "output_type": "stream",
          "text": [
            "Linear Equation: Y = 0.97130X + 1.34486\n",
            "0.9342132440873561\n"
          ],
          "name": "stdout"
        }
      ]
    },
    {
      "cell_type": "markdown",
      "metadata": {
        "id": "i0O8XVWRCdfJ"
      },
      "source": [
        "Next, use the slope and intercept that we got from the regression **to plot predicted values vs. observed**"
      ]
    },
    {
      "cell_type": "code",
      "metadata": {
        "colab": {
          "base_uri": "https://localhost:8080/",
          "height": 278
        },
        "id": "FXPj02YICAUL",
        "outputId": "bc69ddd9-e703-4fe8-9b5c-71ea9029eb1e"
      },
      "source": [
        "def predict(x):\n",
        "  return slope * x + intercept\n",
        "\n",
        "fitLine = predict(bikes_in_out['BIKES_IN'])\n",
        "plt.scatter(bikes_in_out['BIKES_IN'], bikes_in_out['BIKES_OUT'])\n",
        "plt.plot(bikes_in_out['BIKES_IN'], fitLine, c='r')\n",
        "plt.xlabel('Bikes IN')\n",
        "plt.ylabel('Bikes OUT')\n",
        "plt.show()"
      ],
      "execution_count": null,
      "outputs": [
        {
          "output_type": "display_data",
          "data": {
            "image/png": "[encoded data removed]",
            "text/plain": [
              "<Figure size 432x288 with 1 Axes>"
            ]
          },
          "metadata": {
            "tags": [],
            "needs_background": "light"
          }
        }
      ]
    },
    {
      "cell_type": "markdown",
      "metadata": {
        "id": "Etob5BclCgyd"
      },
      "source": [
        "**Evaluation:**\n",
        "\n",
        "According to the chart, the Bikes IN and Bikes OUT per day are quite closely related. There is no significant difference between Bikes IN and Bike OUT. **Therefore, it can be assumed that most people take their bikes back for the day instead of leaving them overnight**"
      ]
    },
    {
      "cell_type": "markdown",
      "metadata": {
        "id": "rp1umsnWzO_s"
      },
      "source": [
        "## 4.2. The number of bikes in use per day"
      ]
    },
    {
      "cell_type": "markdown",
      "metadata": {
        "id": "dKrMUexS2kOV"
      },
      "source": [
        "### 4.2.1. From Q3-2018 to Q4-2020"
      ]
    },
    {
      "cell_type": "code",
      "metadata": {
        "id": "aMHyBEhaWtJZ"
      },
      "source": [
        "# Data for plot\n",
        "daily_bike_usage = bikes_in_out[['DATE','BIKES_OUT']].groupby(by='DATE').sum('BIKE_OUT').reset_index()"
      ],
      "execution_count": null,
      "outputs": []
    },
    {
      "cell_type": "code",
      "metadata": {
        "colab": {
          "base_uri": "https://localhost:8080/",
          "height": 353
        },
        "id": "j-h9NumsYxHC",
        "outputId": "de700d15-5150-4f91-da70-9ec3b767e93a"
      },
      "source": [
        "# Plot the number of bikes in use per day\n",
        "import matplotlib.pyplot as plt\n",
        "\n",
        "plt.figure(figsize=(15,5))\n",
        "plt.plot(daily_bike_usage['DATE'], daily_bike_usage['BIKES_OUT'])\n",
        "plt.title('DUBLINBIKES DAILY USAGE (FROM AUGUST 1, 2018 TO JANURAY 1, 2021)')\n",
        "plt.xlabel('Date', size=13)\n",
        "plt.ylabel('Bikes in use per day', size=13)\n",
        "plt.show()"
      ],
      "execution_count": null,
      "outputs": [
        {
          "output_type": "display_data",
          "data": {
            "image/png": "[encoded data removed]",
            "text/plain": [
              "<Figure size 1080x360 with 1 Axes>"
            ]
          },
          "metadata": {
            "tags": [],
            "needs_background": "light"
          }
        }
      ]
    },
    {
      "cell_type": "markdown",
      "metadata": {
        "id": "D56JkSz911l9"
      },
      "source": [
        "###4.2.2. Compare 2019 with 2020"
      ]
    },
    {
      "cell_type": "code",
      "metadata": {
        "id": "Iga-BDjpbJwa"
      },
      "source": [
        "# The number of bikes in use per day in 2019\n",
        "begin_2019 = pd.to_datetime('2019-01-01', format='%Y-%m-%d')\n",
        "end_2019 = pd.to_datetime('2019-12-31', format='%Y-%m-%d')\n",
        "daily_bike_usage_2019 = daily_bike_usage[(daily_bike_usage['DATE'] >= begin_2019) & (daily_bike_usage['DATE'] <= end_2019)].reset_index()\n",
        "\n",
        "# The number of bikes in use per day in 2020\n",
        "begin_2020 = pd.to_datetime('2020-01-01', format='%Y-%m-%d')\n",
        "end_2020 = pd.to_datetime('2020-12-31', format='%Y-%m-%d')\n",
        "daily_bike_usage_2020 = daily_bike_usage[(daily_bike_usage['DATE'] >= begin_2020) & (daily_bike_usage['DATE'] <= end_2020)].reset_index()"
      ],
      "execution_count": null,
      "outputs": []
    },
    {
      "cell_type": "code",
      "metadata": {
        "colab": {
          "base_uri": "https://localhost:8080/",
          "height": 353
        },
        "id": "UFDiwRMrbr3-",
        "outputId": "eff19429-0d83-4f4c-d5ca-ee014a6aad71"
      },
      "source": [
        "# Plot the data\n",
        "plt.figure(figsize=(15,5))\n",
        "plt.plot(daily_bike_usage_2019['DATE'].index, daily_bike_usage_2019['BIKES_OUT'], c='green', label='2019')\n",
        "plt.plot(daily_bike_usage_2020['DATE'].index, daily_bike_usage_2020['BIKES_OUT'], c='red', label='2020')\n",
        "plt.title('DUBLINBIKES DAILY USAGE (2019 vs 2020)')\n",
        "plt.xlabel('Date', size=13)\n",
        "plt.ylabel('Bikes in use per day', size=13)\n",
        "\n",
        "# Set x label (12 months)\n",
        "x = [14]\n",
        "for i in range(0,11):\n",
        "  x.append(x[i]+30)\n",
        "plt.xticks(x, ['January', 'Febuary', 'March', 'April', 'May', 'June', 'July', 'August', 'September', 'October', 'November', 'December'])\n",
        "\n",
        "plt.legend()\n",
        "plt.show()"
      ],
      "execution_count": null,
      "outputs": [
        {
          "output_type": "display_data",
          "data": {
            "image/png": "[encoded data removed]",
            "text/plain": [
              "<Figure size 1080x360 with 1 Axes>"
            ]
          },
          "metadata": {
            "tags": [],
            "needs_background": "light"
          }
        }
      ]
    },
    {
      "cell_type": "markdown",
      "metadata": {
        "id": "MNck7plmNVcO"
      },
      "source": [
        "**Evaluation:**\n",
        "\n",
        "According to the graphs, it can be assumed that due to the Covid-19 pandemic, the level of traffic in 2020 was down nearly 50% compared with a year ago"
      ]
    },
    {
      "cell_type": "markdown",
      "metadata": {
        "id": "LOeLIAms4gqD"
      },
      "source": [
        "## 4.3. The average number of bikes in use by weekday"
      ]
    },
    {
      "cell_type": "code",
      "metadata": {
        "id": "jByJrsLHgpxs"
      },
      "source": [
        "daily_bike_usage['WEEKDAY'] = daily_bike_usage['DATE'].apply(lambda x: x.isocalendar()[2])\n",
        "bikes_weekday = daily_bike_usage[['WEEKDAY', 'BIKES_OUT']].groupby(by='WEEKDAY').mean().reset_index()"
      ],
      "execution_count": null,
      "outputs": []
    },
    {
      "cell_type": "code",
      "metadata": {
        "colab": {
          "base_uri": "https://localhost:8080/",
          "height": 406
        },
        "id": "FfkQ_wSMilsp",
        "outputId": "27baeba6-2799-4ea2-a648-aba2a7bf2e40"
      },
      "source": [
        "# Set the figure size\n",
        "fig, ax = plt.subplots(figsize=(10,6))\n",
        "# Set title & axis labels\n",
        "ax.set_title('THE AVERAGE NUMBER OF BIKES IN USE BY WEEKDAY')\n",
        "plt.xlabel('Day of the week', size=13)\n",
        "plt.ylabel('Average bikes in use', size=13)\n",
        "\n",
        "# Plot a bar \n",
        "plt.bar(['Monday', 'Tuesday','Wednesday', 'Thursday', 'Friday', 'Saturday', 'Sunday'], bikes_weekday['BIKES_OUT'])\n",
        "\n",
        "# Show value for all bars\n",
        "rects = ax.patches\n",
        "for rect, value in zip(rects, bikes_weekday['BIKES_OUT']):\n",
        "    height = rect.get_height()\n",
        "    ax.text(rect.get_x() + rect.get_width() / 2, height + 30, \"{:.2f}\".format(value), ha='center', va='bottom')"
      ],
      "execution_count": null,
      "outputs": [
        {
          "output_type": "display_data",
          "data": {
            "image/png": "[encoded data removed]",
            "text/plain": [
              "<Figure size 720x432 with 1 Axes>"
            ]
          },
          "metadata": {
            "tags": [],
            "needs_background": "light"
          }
        }
      ]
    },
    {
      "cell_type": "markdown",
      "metadata": {
        "id": "cJuE7anHQY6K"
      },
      "source": [
        "**Evaluation:**\n",
        "\n",
        "The number of people using DublinBikes on weekdays is more than that on weekends"
      ]
    },
    {
      "cell_type": "markdown",
      "metadata": {
        "id": "3QkFpAjDV_QB"
      },
      "source": [
        "## 4.4. The usage percentage: =(total bikes - available bikes) / total bikes\n",
        "Notes: The total of bikes in DublinBikes is 1600 (from March 2018)"
      ]
    },
    {
      "cell_type": "markdown",
      "metadata": {
        "id": "R4usTZ-K-uT8"
      },
      "source": [
        "### 4.4.1. In Daily"
      ]
    },
    {
      "cell_type": "code",
      "metadata": {
        "id": "iiNGsXvKWETc"
      },
      "source": [
        "# Average available bikes per station per day\n",
        "available_bikes_by_station_and_day = df[['STATION_ID','DATE','AVAILABLE_BIKES']].groupby(['STATION_ID','DATE']).mean('AVAILABLE_BIKES').reset_index()"
      ],
      "execution_count": null,
      "outputs": []
    },
    {
      "cell_type": "code",
      "metadata": {
        "colab": {
          "base_uri": "https://localhost:8080/",
          "height": 406
        },
        "id": "4Cfrn2gJWcWJ",
        "outputId": "c2cd9461-9136-44e1-ecf0-c57fd94de7fb"
      },
      "source": [
        "# Average available bikes per day (SUM of all stations in a day)\n",
        "available_bikes_by_day = available_bikes_by_station_and_day[['DATE','AVAILABLE_BIKES']].groupby(['DATE']).sum('AVAILABLE_BIKES').reset_index()\n",
        "available_bikes_by_day.rename(columns={'AVAILABLE_BIKES':'AVG_AVAILABLE_BIKES'}, inplace=True)\n",
        "available_bikes_by_day"
      ],
      "execution_count": null,
      "outputs": [
        {
          "output_type": "execute_result",
          "data": {
            "text/html": [
              "<div>\n",
              "<style scoped>\n",
              "    .dataframe tbody tr th:only-of-type {\n",
              "        vertical-align: middle;\n",
              "    }\n",
              "\n",
              "    .dataframe tbody tr th {\n",
              "        vertical-align: top;\n",
              "    }\n",
              "\n",
              "    .dataframe thead th {\n",
              "        text-align: right;\n",
              "    }\n",
              "</style>\n",
              "<table border=\"1\" class=\"dataframe\">\n",
              "  <thead>\n",
              "    <tr style=\"text-align: right;\">\n",
              "      <th></th>\n",
              "      <th>DATE</th>\n",
              "      <th>AVG_AVAILABLE_BIKES</th>\n",
              "    </tr>\n",
              "  </thead>\n",
              "  <tbody>\n",
              "    <tr>\n",
              "      <th>0</th>\n",
              "      <td>2018-08-01</td>\n",
              "      <td>1224.028986</td>\n",
              "    </tr>\n",
              "    <tr>\n",
              "      <th>1</th>\n",
              "      <td>2018-08-02</td>\n",
              "      <td>1220.427083</td>\n",
              "    </tr>\n",
              "    <tr>\n",
              "      <th>2</th>\n",
              "      <td>2018-08-03</td>\n",
              "      <td>1247.024306</td>\n",
              "    </tr>\n",
              "    <tr>\n",
              "      <th>3</th>\n",
              "      <td>2018-08-04</td>\n",
              "      <td>1292.138889</td>\n",
              "    </tr>\n",
              "    <tr>\n",
              "      <th>4</th>\n",
              "      <td>2018-08-05</td>\n",
              "      <td>1291.447917</td>\n",
              "    </tr>\n",
              "    <tr>\n",
              "      <th>...</th>\n",
              "      <td>...</td>\n",
              "      <td>...</td>\n",
              "    </tr>\n",
              "    <tr>\n",
              "      <th>838</th>\n",
              "      <td>2020-12-28</td>\n",
              "      <td>1345.003472</td>\n",
              "    </tr>\n",
              "    <tr>\n",
              "      <th>839</th>\n",
              "      <td>2020-12-29</td>\n",
              "      <td>1334.454861</td>\n",
              "    </tr>\n",
              "    <tr>\n",
              "      <th>840</th>\n",
              "      <td>2020-12-30</td>\n",
              "      <td>1331.680556</td>\n",
              "    </tr>\n",
              "    <tr>\n",
              "      <th>841</th>\n",
              "      <td>2020-12-31</td>\n",
              "      <td>1350.079861</td>\n",
              "    </tr>\n",
              "    <tr>\n",
              "      <th>842</th>\n",
              "      <td>2021-01-01</td>\n",
              "      <td>1356.003472</td>\n",
              "    </tr>\n",
              "  </tbody>\n",
              "</table>\n",
              "<p>843 rows × 2 columns</p>\n",
              "</div>"
            ],
            "text/plain": [
              "          DATE  AVG_AVAILABLE_BIKES\n",
              "0   2018-08-01          1224.028986\n",
              "1   2018-08-02          1220.427083\n",
              "2   2018-08-03          1247.024306\n",
              "3   2018-08-04          1292.138889\n",
              "4   2018-08-05          1291.447917\n",
              "..         ...                  ...\n",
              "838 2020-12-28          1345.003472\n",
              "839 2020-12-29          1334.454861\n",
              "840 2020-12-30          1331.680556\n",
              "841 2020-12-31          1350.079861\n",
              "842 2021-01-01          1356.003472\n",
              "\n",
              "[843 rows x 2 columns]"
            ]
          },
          "metadata": {
            "tags": []
          },
          "execution_count": 50
        }
      ]
    },
    {
      "cell_type": "code",
      "metadata": {
        "id": "Y70rfJP5WSwv"
      },
      "source": [
        "# The total of bikes in DublinBikes is 1600 (from March 2018)\n",
        "available_bikes_by_day['TOTAL_DUBLIN_BIKES'] = 1600\n",
        "# percentage =(total bikes - available bikes) / total bikes)\n",
        "available_bikes_by_day['USAGE_PERCENTAGE'] = (available_bikes_by_day['TOTAL_DUBLIN_BIKES'] - available_bikes_by_day['AVG_AVAILABLE_BIKES']) \\\n",
        "                                                  / available_bikes_by_day['TOTAL_DUBLIN_BIKES'] * 100"
      ],
      "execution_count": null,
      "outputs": []
    },
    {
      "cell_type": "code",
      "metadata": {
        "colab": {
          "base_uri": "https://localhost:8080/",
          "height": 353
        },
        "id": "CdQxf9LkWUoZ",
        "outputId": "bb05687a-6cf6-4e3f-a2a2-357f6fbbdcee"
      },
      "source": [
        "plt.figure(figsize=(20,5))\n",
        "plt.plot(daily_bike_usage['DATE'], available_bikes_by_day['USAGE_PERCENTAGE'])\n",
        "plt.title('USAGE PERCENTAGE (IN DAILY)')\n",
        "plt.xlabel('Daily', size=13)\n",
        "plt.ylabel('Usage percentage (%)', size=13)\n",
        "plt.show()"
      ],
      "execution_count": null,
      "outputs": [
        {
          "output_type": "display_data",
          "data": {
            "image/png": "[encoded data removed]",
            "text/plain": [
              "<Figure size 1440x360 with 1 Axes>"
            ]
          },
          "metadata": {
            "tags": [],
            "needs_background": "light"
          }
        }
      ]
    },
    {
      "cell_type": "markdown",
      "metadata": {
        "id": "TqwI4a1SHS0r"
      },
      "source": [
        "### 4.4.2. In Hourly (calculated by 5-min intervals)"
      ]
    },
    {
      "cell_type": "code",
      "metadata": {
        "id": "fwtwL-ptHYcl"
      },
      "source": [
        "# Average available bikes per station per 5-min interval\n",
        "available_bikes_by_station_and_5min_interval = df[['STATION_ID','HOUR','MINUTE','AVAILABLE_BIKES']].groupby(['STATION_ID','HOUR','MINUTE']).mean().reset_index()"
      ],
      "execution_count": null,
      "outputs": []
    },
    {
      "cell_type": "code",
      "metadata": {
        "colab": {
          "base_uri": "https://localhost:8080/",
          "height": 406
        },
        "id": "jVMUPiX_HzUL",
        "outputId": "9004718f-d15c-40ca-d4ba-9dcd605a0c3d"
      },
      "source": [
        "# Average available bikes per 5-min interval (SUM of all stations in a 5-min intetval)\n",
        "available_bikes_by_5min_interval = available_bikes_by_station_and_5min_interval[['HOUR', 'MINUTE', 'AVAILABLE_BIKES']].groupby(['HOUR', 'MINUTE']).sum().reset_index()\n",
        "available_bikes_by_5min_interval.rename(columns={'AVAILABLE_BIKES':'AVG_AVAILABLE_BIKES'}, inplace=True)\n",
        "# The total of bikes in DublinBikes is 1600 (from March 2018)\n",
        "available_bikes_by_5min_interval['TOTAL_DUBLIN_BIKES'] = 1600\n",
        "# percentage =(total bikes - available bikes) / total bikes)\n",
        "available_bikes_by_5min_interval['USAGE_PERCENTAGE'] = (available_bikes_by_5min_interval['TOTAL_DUBLIN_BIKES'] - available_bikes_by_5min_interval['AVG_AVAILABLE_BIKES']) \\\n",
        "                                                  / available_bikes_by_5min_interval['TOTAL_DUBLIN_BIKES'] * 100\n",
        "\n",
        "available_bikes_by_5min_interval"
      ],
      "execution_count": null,
      "outputs": [
        {
          "output_type": "execute_result",
          "data": {
            "text/html": [
              "<div>\n",
              "<style scoped>\n",
              "    .dataframe tbody tr th:only-of-type {\n",
              "        vertical-align: middle;\n",
              "    }\n",
              "\n",
              "    .dataframe tbody tr th {\n",
              "        vertical-align: top;\n",
              "    }\n",
              "\n",
              "    .dataframe thead th {\n",
              "        text-align: right;\n",
              "    }\n",
              "</style>\n",
              "<table border=\"1\" class=\"dataframe\">\n",
              "  <thead>\n",
              "    <tr style=\"text-align: right;\">\n",
              "      <th></th>\n",
              "      <th>HOUR</th>\n",
              "      <th>MINUTE</th>\n",
              "      <th>AVG_AVAILABLE_BIKES</th>\n",
              "      <th>TOTAL_DUBLIN_BIKES</th>\n",
              "      <th>USAGE_PERCENTAGE</th>\n",
              "    </tr>\n",
              "  </thead>\n",
              "  <tbody>\n",
              "    <tr>\n",
              "      <th>0</th>\n",
              "      <td>0</td>\n",
              "      <td>0</td>\n",
              "      <td>1366.111072</td>\n",
              "      <td>1600</td>\n",
              "      <td>14.618058</td>\n",
              "    </tr>\n",
              "    <tr>\n",
              "      <th>1</th>\n",
              "      <td>0</td>\n",
              "      <td>5</td>\n",
              "      <td>1366.232002</td>\n",
              "      <td>1600</td>\n",
              "      <td>14.610500</td>\n",
              "    </tr>\n",
              "    <tr>\n",
              "      <th>2</th>\n",
              "      <td>0</td>\n",
              "      <td>10</td>\n",
              "      <td>1366.493628</td>\n",
              "      <td>1600</td>\n",
              "      <td>14.594148</td>\n",
              "    </tr>\n",
              "    <tr>\n",
              "      <th>3</th>\n",
              "      <td>0</td>\n",
              "      <td>15</td>\n",
              "      <td>1366.802411</td>\n",
              "      <td>1600</td>\n",
              "      <td>14.574849</td>\n",
              "    </tr>\n",
              "    <tr>\n",
              "      <th>4</th>\n",
              "      <td>0</td>\n",
              "      <td>20</td>\n",
              "      <td>1367.159781</td>\n",
              "      <td>1600</td>\n",
              "      <td>14.552514</td>\n",
              "    </tr>\n",
              "    <tr>\n",
              "      <th>...</th>\n",
              "      <td>...</td>\n",
              "      <td>...</td>\n",
              "      <td>...</td>\n",
              "      <td>...</td>\n",
              "      <td>...</td>\n",
              "    </tr>\n",
              "    <tr>\n",
              "      <th>283</th>\n",
              "      <td>23</td>\n",
              "      <td>35</td>\n",
              "      <td>1357.605803</td>\n",
              "      <td>1600</td>\n",
              "      <td>15.149637</td>\n",
              "    </tr>\n",
              "    <tr>\n",
              "      <th>284</th>\n",
              "      <td>23</td>\n",
              "      <td>40</td>\n",
              "      <td>1361.272792</td>\n",
              "      <td>1600</td>\n",
              "      <td>14.920451</td>\n",
              "    </tr>\n",
              "    <tr>\n",
              "      <th>285</th>\n",
              "      <td>23</td>\n",
              "      <td>45</td>\n",
              "      <td>1363.487969</td>\n",
              "      <td>1600</td>\n",
              "      <td>14.782002</td>\n",
              "    </tr>\n",
              "    <tr>\n",
              "      <th>286</th>\n",
              "      <td>23</td>\n",
              "      <td>50</td>\n",
              "      <td>1364.528293</td>\n",
              "      <td>1600</td>\n",
              "      <td>14.716982</td>\n",
              "    </tr>\n",
              "    <tr>\n",
              "      <th>287</th>\n",
              "      <td>23</td>\n",
              "      <td>55</td>\n",
              "      <td>1365.281224</td>\n",
              "      <td>1600</td>\n",
              "      <td>14.669924</td>\n",
              "    </tr>\n",
              "  </tbody>\n",
              "</table>\n",
              "<p>288 rows × 5 columns</p>\n",
              "</div>"
            ],
            "text/plain": [
              "     HOUR  MINUTE  AVG_AVAILABLE_BIKES  TOTAL_DUBLIN_BIKES  USAGE_PERCENTAGE\n",
              "0       0       0          1366.111072                1600         14.618058\n",
              "1       0       5          1366.232002                1600         14.610500\n",
              "2       0      10          1366.493628                1600         14.594148\n",
              "3       0      15          1366.802411                1600         14.574849\n",
              "4       0      20          1367.159781                1600         14.552514\n",
              "..    ...     ...                  ...                 ...               ...\n",
              "283    23      35          1357.605803                1600         15.149637\n",
              "284    23      40          1361.272792                1600         14.920451\n",
              "285    23      45          1363.487969                1600         14.782002\n",
              "286    23      50          1364.528293                1600         14.716982\n",
              "287    23      55          1365.281224                1600         14.669924\n",
              "\n",
              "[288 rows x 5 columns]"
            ]
          },
          "metadata": {
            "tags": []
          },
          "execution_count": 54
        }
      ]
    },
    {
      "cell_type": "code",
      "metadata": {
        "colab": {
          "base_uri": "https://localhost:8080/",
          "height": 353
        },
        "id": "I0BqsdyfJPf0",
        "outputId": "0d07bd86-5a43-4958-d52d-4c21b4366b0f"
      },
      "source": [
        "plt.figure(figsize=(15,5))\n",
        "plt.plot(available_bikes_by_5min_interval.index, available_bikes_by_5min_interval['USAGE_PERCENTAGE'])\n",
        "plt.title('USAGE PERCENTAGE (IN HOURLY)')\n",
        "plt.xlabel('Hourly', size=13)\n",
        "plt.ylabel('Usage percentage (%)', size=13)\n",
        "\n",
        "x = [0]\n",
        "for i in range(0,23):\n",
        "  x.append(x[i]+12)\n",
        "plt.xticks(x, ['0AM','1AM','2AM','3AM','4AM','5AM','6AM','7AM','8AM','9AM','10AM','11AM', \\\n",
        "               '12AM','1PM','2PM','3PM','4PM','5PM','6PM','7PM','8PM','9PM','10PM','11PM'])\n",
        "plt.show()"
      ],
      "execution_count": null,
      "outputs": [
        {
          "output_type": "display_data",
          "data": {
            "image/png": "[encoded data removed]",
            "text/plain": [
              "<Figure size 1080x360 with 1 Axes>"
            ]
          },
          "metadata": {
            "tags": [],
            "needs_background": "light"
          }
        }
      ]
    },
    {
      "cell_type": "markdown",
      "metadata": {
        "id": "Nv9qmEkzC-5o"
      },
      "source": [
        "### 4.4.3. Peak times (usage percentage >= 80%)"
      ]
    },
    {
      "cell_type": "code",
      "metadata": {
        "colab": {
          "base_uri": "https://localhost:8080/",
          "height": 287
        },
        "id": "GbL2Y3gKERRL",
        "outputId": "f0720d6d-031b-4983-b1fe-eaa2aeaeba34"
      },
      "source": [
        "# Available bikes per 5-min interval (SUM of all stations in a 5-min interval)\n",
        "peak_5min_intervals = df[['DATE','HOUR','MINUTE','AVAILABLE_BIKES']].groupby(['DATE','HOUR','MINUTE']).sum().reset_index()\n",
        "peak_5min_intervals.rename(columns={'AVAILABLE_BIKES':'AVG_AVAILABLE_BIKES'}, inplace=True)\n",
        "# The total of bikes in DublinBikes is 1600 (from March 2018)\n",
        "peak_5min_intervals['TOTAL_DUBLIN_BIKES'] = 1600\n",
        "# percentage =(total bikes - available bikes) / total bikes)\n",
        "peak_5min_intervals['USAGE_PERCENTAGE'] = (peak_5min_intervals['TOTAL_DUBLIN_BIKES'] - peak_5min_intervals['AVG_AVAILABLE_BIKES']) \\\n",
        "                                                  / peak_5min_intervals['TOTAL_DUBLIN_BIKES'] * 100\n",
        "\n",
        "peak_5min_intervals.describe()"
      ],
      "execution_count": null,
      "outputs": [
        {
          "output_type": "execute_result",
          "data": {
            "text/html": [
              "<div>\n",
              "<style scoped>\n",
              "    .dataframe tbody tr th:only-of-type {\n",
              "        vertical-align: middle;\n",
              "    }\n",
              "\n",
              "    .dataframe tbody tr th {\n",
              "        vertical-align: top;\n",
              "    }\n",
              "\n",
              "    .dataframe thead th {\n",
              "        text-align: right;\n",
              "    }\n",
              "</style>\n",
              "<table border=\"1\" class=\"dataframe\">\n",
              "  <thead>\n",
              "    <tr style=\"text-align: right;\">\n",
              "      <th></th>\n",
              "      <th>HOUR</th>\n",
              "      <th>MINUTE</th>\n",
              "      <th>AVG_AVAILABLE_BIKES</th>\n",
              "      <th>TOTAL_DUBLIN_BIKES</th>\n",
              "      <th>USAGE_PERCENTAGE</th>\n",
              "    </tr>\n",
              "  </thead>\n",
              "  <tbody>\n",
              "    <tr>\n",
              "      <th>count</th>\n",
              "      <td>238822.000000</td>\n",
              "      <td>238822.000000</td>\n",
              "      <td>238822.000000</td>\n",
              "      <td>238822.0</td>\n",
              "      <td>238822.000000</td>\n",
              "    </tr>\n",
              "    <tr>\n",
              "      <th>mean</th>\n",
              "      <td>11.487355</td>\n",
              "      <td>27.500377</td>\n",
              "      <td>1262.887477</td>\n",
              "      <td>1600.0</td>\n",
              "      <td>21.069533</td>\n",
              "    </tr>\n",
              "    <tr>\n",
              "      <th>std</th>\n",
              "      <td>6.914376</td>\n",
              "      <td>17.261261</td>\n",
              "      <td>103.022096</td>\n",
              "      <td>0.0</td>\n",
              "      <td>6.438881</td>\n",
              "    </tr>\n",
              "    <tr>\n",
              "      <th>min</th>\n",
              "      <td>0.000000</td>\n",
              "      <td>0.000000</td>\n",
              "      <td>50.000000</td>\n",
              "      <td>1600.0</td>\n",
              "      <td>7.187500</td>\n",
              "    </tr>\n",
              "    <tr>\n",
              "      <th>25%</th>\n",
              "      <td>5.000000</td>\n",
              "      <td>10.000000</td>\n",
              "      <td>1215.000000</td>\n",
              "      <td>1600.0</td>\n",
              "      <td>16.312500</td>\n",
              "    </tr>\n",
              "    <tr>\n",
              "      <th>50%</th>\n",
              "      <td>11.000000</td>\n",
              "      <td>30.000000</td>\n",
              "      <td>1289.000000</td>\n",
              "      <td>1600.0</td>\n",
              "      <td>19.437500</td>\n",
              "    </tr>\n",
              "    <tr>\n",
              "      <th>75%</th>\n",
              "      <td>17.000000</td>\n",
              "      <td>45.000000</td>\n",
              "      <td>1339.000000</td>\n",
              "      <td>1600.0</td>\n",
              "      <td>24.062500</td>\n",
              "    </tr>\n",
              "    <tr>\n",
              "      <th>max</th>\n",
              "      <td>23.000000</td>\n",
              "      <td>55.000000</td>\n",
              "      <td>1485.000000</td>\n",
              "      <td>1600.0</td>\n",
              "      <td>96.875000</td>\n",
              "    </tr>\n",
              "  </tbody>\n",
              "</table>\n",
              "</div>"
            ],
            "text/plain": [
              "                HOUR         MINUTE  ...  TOTAL_DUBLIN_BIKES  USAGE_PERCENTAGE\n",
              "count  238822.000000  238822.000000  ...            238822.0     238822.000000\n",
              "mean       11.487355      27.500377  ...              1600.0         21.069533\n",
              "std         6.914376      17.261261  ...                 0.0          6.438881\n",
              "min         0.000000       0.000000  ...              1600.0          7.187500\n",
              "25%         5.000000      10.000000  ...              1600.0         16.312500\n",
              "50%        11.000000      30.000000  ...              1600.0         19.437500\n",
              "75%        17.000000      45.000000  ...              1600.0         24.062500\n",
              "max        23.000000      55.000000  ...              1600.0         96.875000\n",
              "\n",
              "[8 rows x 5 columns]"
            ]
          },
          "metadata": {
            "tags": []
          },
          "execution_count": 56
        }
      ]
    },
    {
      "cell_type": "code",
      "metadata": {
        "colab": {
          "base_uri": "https://localhost:8080/"
        },
        "id": "IC4fSOu8JLpI",
        "outputId": "cb27197c-33ae-4b73-8cf0-d30eda4531ad"
      },
      "source": [
        "number_of_peaktime = len(peak_5min_intervals[peak_5min_intervals['USAGE_PERCENTAGE'] >= 80].index)\n",
        "rate = number_of_peaktime / len(peak_5min_intervals.index) * 100\n",
        "print(\"The rate of peak times is \",rate,'%. Very very very low!')"
      ],
      "execution_count": null,
      "outputs": [
        {
          "output_type": "stream",
          "text": [
            "The rate of peak times is  0.00460594082622204 %. Very very very low!\n"
          ],
          "name": "stdout"
        }
      ]
    },
    {
      "cell_type": "markdown",
      "metadata": {
        "id": "GdNZXldpKs1W"
      },
      "source": [
        "**Evaluation:**\n",
        "According to the 2 above graphs and the rate of \"peak times\", in my opinion, the usage percentage of DublinBikes at below a \"Medium\" level. In the near future, we don't need to buy more bikes. We should analyze each station to redistribute the bike at each station for more efficiency."
      ]
    },
    {
      "cell_type": "markdown",
      "metadata": {
        "id": "dTSQSGT_y_FH"
      },
      "source": [
        "## 4.5. Analyse 116 Stations"
      ]
    },
    {
      "cell_type": "markdown",
      "metadata": {
        "id": "3B9JbOKrRypc"
      },
      "source": [
        "### 4.5.1. Station features and show their correlation by using seaborn library"
      ]
    },
    {
      "cell_type": "code",
      "metadata": {
        "id": "AujVCBGJRJ3G"
      },
      "source": [
        "# The average daily traffic of each station\n",
        "avg_traffic_by_station = bikes_in_out[['STATION_ID', 'BIKES_IN', 'BIKES_OUT']].groupby(by='STATION_ID').mean().reset_index()\n",
        "avg_traffic_by_station.rename(columns={'BIKES_IN': 'AVG_DAILY_BIKES_IN', 'BIKES_OUT': 'AVG_DAILY_BIKES_OUT'}, inplace=True)\n",
        "\n",
        "# The number of times that there are NO any available BIKE in a specific station\n",
        "zero_bikes_by_station = df[df['AVAILABLE_BIKES'] == 0][['STATION_ID', 'DATE']].groupby(['STATION_ID']).count().reset_index()\n",
        "zero_bikes_by_station.rename(columns={'DATE':'NO._ROWS_WITH_ZERO_BIKES'}, inplace=True)\n",
        "\n",
        "# The number of times that there are NO any available BIKE STAND in a specific station\n",
        "zero_bike_stands_by_station = df[df['AVAILABLE_BIKE_STANDS'] == 0][['STATION_ID', 'DATE']].groupby(['STATION_ID']).count().reset_index()\n",
        "zero_bike_stands_by_station.rename(columns={'DATE':'NO._ROWS_WITH_ZERO_BIKE_STANDS'}, inplace=True)\n",
        "\n",
        "# The total of 5-min interval records of each station\n",
        "total_rows_by_station = df[['STATION_ID','DATE']].groupby(['STATION_ID']).count().reset_index()\n",
        "total_rows_by_station.rename(columns={'DATE':'TOTAL_ROWS'}, inplace=True)\n",
        "\n",
        "# The average available bikes of each station\n",
        "avg_available_bikes_by_station = df[['STATION_ID', 'AVAILABLE_BIKES']].groupby('STATION_ID').mean().reset_index()\n",
        "avg_available_bikes_by_station.rename(columns={'AVAILABLE_BIKES': 'AVG_AVAILABLE_BIKES'}, inplace=True)\n",
        "\n",
        "# The average available bike stands of each station\n",
        "avg_available_bike_stands_by_station = df[['STATION_ID', 'AVAILABLE_BIKE_STANDS']].groupby('STATION_ID').mean().reset_index()\n",
        "avg_available_bike_stands_by_station.rename(columns={'AVAILABLE_BIKE_STANDS': 'AVG_AVAILABLE_BIKE_STANDS'}, inplace=True)"
      ],
      "execution_count": null,
      "outputs": []
    },
    {
      "cell_type": "code",
      "metadata": {
        "colab": {
          "base_uri": "https://localhost:8080/",
          "height": 660
        },
        "id": "_6Mk7IRFcqIM",
        "outputId": "d618526c-cf03-4b92-cb71-e1053e526306"
      },
      "source": [
        "station_features_df = stations_df.copy()\n",
        "\n",
        "# Merge all above dataframes into station_features_df\n",
        "station_features_df = station_features_df.merge(avg_available_bikes_by_station, left_on='STATION_ID', right_on='STATION_ID', how='inner')\n",
        "\n",
        "station_features_df = station_features_df.merge(avg_available_bike_stands_by_station, left_on='STATION_ID', right_on='STATION_ID', how='inner')\n",
        "\n",
        "station_features_df = station_features_df.merge(avg_traffic_by_station, left_on='STATION_ID', right_on='STATION_ID', how='inner')\n",
        "\n",
        "station_features_df = station_features_df.merge(total_rows_by_station, left_on='STATION_ID', right_on='STATION_ID', how='inner')\n",
        "\n",
        "station_features_df = station_features_df.merge(zero_bikes_by_station, left_on='STATION_ID', right_on='STATION_ID', how='inner')\n",
        "# The rate of zero bikes\n",
        "station_features_df['ZERO_BIKES_PERCENTAGE'] = station_features_df['NO._ROWS_WITH_ZERO_BIKES']/station_features_df['TOTAL_ROWS']\n",
        "\n",
        "station_features_df = station_features_df.merge(zero_bike_stands_by_station, left_on='STATION_ID', right_on='STATION_ID', how='inner')\n",
        "# The rate of zero bike stands\n",
        "station_features_df['ZERO_BIKE_STANDS_PERCENTAGE'] = station_features_df['NO._ROWS_WITH_ZERO_BIKE_STANDS']/station_features_df['TOTAL_ROWS']\n",
        "\n",
        "station_features_df"
      ],
      "execution_count": null,
      "outputs": [
        {
          "output_type": "execute_result",
          "data": {
            "text/html": [
              "<div>\n",
              "<style scoped>\n",
              "    .dataframe tbody tr th:only-of-type {\n",
              "        vertical-align: middle;\n",
              "    }\n",
              "\n",
              "    .dataframe tbody tr th {\n",
              "        vertical-align: top;\n",
              "    }\n",
              "\n",
              "    .dataframe thead th {\n",
              "        text-align: right;\n",
              "    }\n",
              "</style>\n",
              "<table border=\"1\" class=\"dataframe\">\n",
              "  <thead>\n",
              "    <tr style=\"text-align: right;\">\n",
              "      <th></th>\n",
              "      <th>STATION_ID</th>\n",
              "      <th>NAME</th>\n",
              "      <th>ADDRESS</th>\n",
              "      <th>LATITUDE</th>\n",
              "      <th>LONGITUDE</th>\n",
              "      <th>BIKE_STANDS</th>\n",
              "      <th>AVG_AVAILABLE_BIKES</th>\n",
              "      <th>AVG_AVAILABLE_BIKE_STANDS</th>\n",
              "      <th>AVG_DAILY_BIKES_IN</th>\n",
              "      <th>AVG_DAILY_BIKES_OUT</th>\n",
              "      <th>TOTAL_ROWS</th>\n",
              "      <th>NO._ROWS_WITH_ZERO_BIKES</th>\n",
              "      <th>ZERO_BIKES_PERCENTAGE</th>\n",
              "      <th>NO._ROWS_WITH_ZERO_BIKE_STANDS</th>\n",
              "      <th>ZERO_BIKE_STANDS_PERCENTAGE</th>\n",
              "    </tr>\n",
              "  </thead>\n",
              "  <tbody>\n",
              "    <tr>\n",
              "      <th>0</th>\n",
              "      <td>1</td>\n",
              "      <td>CLARENDON ROW</td>\n",
              "      <td>Clarendon Row</td>\n",
              "      <td>53.340927</td>\n",
              "      <td>-6.262501</td>\n",
              "      <td>31</td>\n",
              "      <td>12.948535</td>\n",
              "      <td>17.454477</td>\n",
              "      <td>81.446328</td>\n",
              "      <td>81.531073</td>\n",
              "      <td>50403</td>\n",
              "      <td>11256</td>\n",
              "      <td>0.223320</td>\n",
              "      <td>4446</td>\n",
              "      <td>0.088209</td>\n",
              "    </tr>\n",
              "    <tr>\n",
              "      <th>1</th>\n",
              "      <td>2</td>\n",
              "      <td>BLESSINGTON STREET</td>\n",
              "      <td>Blessington Street</td>\n",
              "      <td>53.356770</td>\n",
              "      <td>-6.268140</td>\n",
              "      <td>20</td>\n",
              "      <td>5.745042</td>\n",
              "      <td>14.244380</td>\n",
              "      <td>36.545670</td>\n",
              "      <td>36.602610</td>\n",
              "      <td>238796</td>\n",
              "      <td>50545</td>\n",
              "      <td>0.211666</td>\n",
              "      <td>3416</td>\n",
              "      <td>0.014305</td>\n",
              "    </tr>\n",
              "    <tr>\n",
              "      <th>2</th>\n",
              "      <td>3</td>\n",
              "      <td>BOLTON STREET</td>\n",
              "      <td>Bolton Street</td>\n",
              "      <td>53.351180</td>\n",
              "      <td>-6.269859</td>\n",
              "      <td>20</td>\n",
              "      <td>6.051265</td>\n",
              "      <td>13.910003</td>\n",
              "      <td>47.096085</td>\n",
              "      <td>47.139976</td>\n",
              "      <td>238797</td>\n",
              "      <td>32860</td>\n",
              "      <td>0.137606</td>\n",
              "      <td>4436</td>\n",
              "      <td>0.018576</td>\n",
              "    </tr>\n",
              "    <tr>\n",
              "      <th>3</th>\n",
              "      <td>4</td>\n",
              "      <td>GREEK STREET</td>\n",
              "      <td>Greek Street</td>\n",
              "      <td>53.346874</td>\n",
              "      <td>-6.272976</td>\n",
              "      <td>20</td>\n",
              "      <td>8.145933</td>\n",
              "      <td>11.812851</td>\n",
              "      <td>33.705813</td>\n",
              "      <td>33.679715</td>\n",
              "      <td>238794</td>\n",
              "      <td>23028</td>\n",
              "      <td>0.096435</td>\n",
              "      <td>9533</td>\n",
              "      <td>0.039921</td>\n",
              "    </tr>\n",
              "    <tr>\n",
              "      <th>4</th>\n",
              "      <td>5</td>\n",
              "      <td>CHARLEMONT PLACE</td>\n",
              "      <td>Charlemont Street</td>\n",
              "      <td>53.330660</td>\n",
              "      <td>-6.260177</td>\n",
              "      <td>40</td>\n",
              "      <td>15.450666</td>\n",
              "      <td>24.465946</td>\n",
              "      <td>103.176750</td>\n",
              "      <td>103.304864</td>\n",
              "      <td>238811</td>\n",
              "      <td>10689</td>\n",
              "      <td>0.044759</td>\n",
              "      <td>2243</td>\n",
              "      <td>0.009392</td>\n",
              "    </tr>\n",
              "    <tr>\n",
              "      <th>...</th>\n",
              "      <td>...</td>\n",
              "      <td>...</td>\n",
              "      <td>...</td>\n",
              "      <td>...</td>\n",
              "      <td>...</td>\n",
              "      <td>...</td>\n",
              "      <td>...</td>\n",
              "      <td>...</td>\n",
              "      <td>...</td>\n",
              "      <td>...</td>\n",
              "      <td>...</td>\n",
              "      <td>...</td>\n",
              "      <td>...</td>\n",
              "      <td>...</td>\n",
              "      <td>...</td>\n",
              "    </tr>\n",
              "    <tr>\n",
              "      <th>107</th>\n",
              "      <td>112</td>\n",
              "      <td>NORTH CIRCULAR ROAD (O'CONNELL'S)</td>\n",
              "      <td>North Circular Road (O'Connell's)</td>\n",
              "      <td>53.357840</td>\n",
              "      <td>-6.251557</td>\n",
              "      <td>30</td>\n",
              "      <td>14.550939</td>\n",
              "      <td>15.398496</td>\n",
              "      <td>59.272835</td>\n",
              "      <td>59.487544</td>\n",
              "      <td>238803</td>\n",
              "      <td>24276</td>\n",
              "      <td>0.101657</td>\n",
              "      <td>25562</td>\n",
              "      <td>0.107042</td>\n",
              "    </tr>\n",
              "    <tr>\n",
              "      <th>108</th>\n",
              "      <td>113</td>\n",
              "      <td>MERRION SQUARE SOUTH</td>\n",
              "      <td>Merrion Square South</td>\n",
              "      <td>53.338615</td>\n",
              "      <td>-6.248606</td>\n",
              "      <td>40</td>\n",
              "      <td>9.678777</td>\n",
              "      <td>29.516977</td>\n",
              "      <td>24.869988</td>\n",
              "      <td>24.755772</td>\n",
              "      <td>232991</td>\n",
              "      <td>47618</td>\n",
              "      <td>0.204377</td>\n",
              "      <td>7835</td>\n",
              "      <td>0.033628</td>\n",
              "    </tr>\n",
              "    <tr>\n",
              "      <th>109</th>\n",
              "      <td>114</td>\n",
              "      <td>WILTON TERRACE (PARK)</td>\n",
              "      <td>Wilton Terrace (Park)</td>\n",
              "      <td>53.333652</td>\n",
              "      <td>-6.248345</td>\n",
              "      <td>40</td>\n",
              "      <td>10.335349</td>\n",
              "      <td>29.596496</td>\n",
              "      <td>51.793689</td>\n",
              "      <td>51.652913</td>\n",
              "      <td>233187</td>\n",
              "      <td>45835</td>\n",
              "      <td>0.196559</td>\n",
              "      <td>4431</td>\n",
              "      <td>0.019002</td>\n",
              "    </tr>\n",
              "    <tr>\n",
              "      <th>110</th>\n",
              "      <td>115</td>\n",
              "      <td>KILLARNEY STREET</td>\n",
              "      <td>Killarney Street</td>\n",
              "      <td>53.354843</td>\n",
              "      <td>-6.247579</td>\n",
              "      <td>30</td>\n",
              "      <td>17.787809</td>\n",
              "      <td>12.175042</td>\n",
              "      <td>54.829208</td>\n",
              "      <td>54.983911</td>\n",
              "      <td>228756</td>\n",
              "      <td>12597</td>\n",
              "      <td>0.055067</td>\n",
              "      <td>32004</td>\n",
              "      <td>0.139905</td>\n",
              "    </tr>\n",
              "    <tr>\n",
              "      <th>111</th>\n",
              "      <td>117</td>\n",
              "      <td>HANOVER QUAY EAST</td>\n",
              "      <td>Hanover Quay East</td>\n",
              "      <td>53.343655</td>\n",
              "      <td>-6.231755</td>\n",
              "      <td>40</td>\n",
              "      <td>7.308419</td>\n",
              "      <td>32.650055</td>\n",
              "      <td>9.581121</td>\n",
              "      <td>9.560472</td>\n",
              "      <td>97241</td>\n",
              "      <td>10345</td>\n",
              "      <td>0.106385</td>\n",
              "      <td>579</td>\n",
              "      <td>0.005954</td>\n",
              "    </tr>\n",
              "  </tbody>\n",
              "</table>\n",
              "<p>112 rows × 15 columns</p>\n",
              "</div>"
            ],
            "text/plain": [
              "     STATION_ID  ... ZERO_BIKE_STANDS_PERCENTAGE\n",
              "0             1  ...                    0.088209\n",
              "1             2  ...                    0.014305\n",
              "2             3  ...                    0.018576\n",
              "3             4  ...                    0.039921\n",
              "4             5  ...                    0.009392\n",
              "..          ...  ...                         ...\n",
              "107         112  ...                    0.107042\n",
              "108         113  ...                    0.033628\n",
              "109         114  ...                    0.019002\n",
              "110         115  ...                    0.139905\n",
              "111         117  ...                    0.005954\n",
              "\n",
              "[112 rows x 15 columns]"
            ]
          },
          "metadata": {
            "tags": []
          },
          "execution_count": 59
        }
      ]
    },
    {
      "cell_type": "code",
      "metadata": {
        "colab": {
          "base_uri": "https://localhost:8080/",
          "height": 734
        },
        "id": "9mTOl5cG3uzZ",
        "outputId": "132665ec-f895-462e-856e-0f5948260abe"
      },
      "source": [
        "import seaborn as sns\n",
        "from string import ascii_letters\n",
        "\n",
        "correlation_matrix = station_features_df[['BIKE_STANDS',\t'AVG_AVAILABLE_BIKES', 'AVG_AVAILABLE_BIKE_STANDS',\t\n",
        "                                          'AVG_DAILY_BIKES_IN',\t'AVG_DAILY_BIKES_OUT',\n",
        "                                          'ZERO_BIKES_PERCENTAGE',\t'ZERO_BIKE_STANDS_PERCENTAGE']].corr()\n",
        "\n",
        "\n",
        "# ------------------------------------------------------------------------\n",
        "sns.set(style = \"white\")\n",
        "\n",
        "# Generate a large random dataset\n",
        "rs = np.random.RandomState(33)\n",
        "d = pd.DataFrame(data=rs.normal(size=(100, 26)), columns=list(ascii_letters[26:]))\n",
        "\n",
        "# Compute the correlation matrix\n",
        "# ASSIGN THE \"corr\" VARIABLE TO YOUR CORRELATION MATRIX\n",
        "corr = correlation_matrix\n",
        "\n",
        "# Generate a mask for the upper triangle\n",
        "mask = np.zeros_like(corr, dtype=np.bool)\n",
        "mask[np.triu_indices_from(mask)] = True\n",
        "\n",
        "# Set up the matplotlib figure\n",
        "f, ax = plt.subplots(figsize=(11, 9))\n",
        "\n",
        "# Generate a custom diverging colormap\n",
        "cmap = sns.diverging_palette(220, 10, as_cmap=True)\n",
        "\n",
        "# Draw the heatmap with the mask and correct aspect ratio\n",
        "sns.heatmap(corr, mask=mask, cmap=cmap, vmax=.3, center=0,\n",
        "            square=True, linewidths=.5, cbar_kws={\"shrink\": .5})\n",
        "plt.title(\"Correlation Heatmap: Bike Stations\")\n",
        "plt.show()"
      ],
      "execution_count": null,
      "outputs": [
        {
          "output_type": "display_data",
          "data": {
            "image/png": "[encoded data removed]",
            "text/plain": [
              "<Figure size 792x648 with 2 Axes>"
            ]
          },
          "metadata": {
            "tags": []
          }
        }
      ]
    },
    {
      "cell_type": "code",
      "metadata": {
        "colab": {
          "base_uri": "https://localhost:8080/",
          "height": 307
        },
        "id": "ZTcw1upcVyDI",
        "outputId": "3841daec-2b4b-4023-f96b-25ba2f5e66bb"
      },
      "source": [
        "station_features_df.describe()"
      ],
      "execution_count": null,
      "outputs": [
        {
          "output_type": "execute_result",
          "data": {
            "text/html": [
              "<div>\n",
              "<style scoped>\n",
              "    .dataframe tbody tr th:only-of-type {\n",
              "        vertical-align: middle;\n",
              "    }\n",
              "\n",
              "    .dataframe tbody tr th {\n",
              "        vertical-align: top;\n",
              "    }\n",
              "\n",
              "    .dataframe thead th {\n",
              "        text-align: right;\n",
              "    }\n",
              "</style>\n",
              "<table border=\"1\" class=\"dataframe\">\n",
              "  <thead>\n",
              "    <tr style=\"text-align: right;\">\n",
              "      <th></th>\n",
              "      <th>STATION_ID</th>\n",
              "      <th>LATITUDE</th>\n",
              "      <th>LONGITUDE</th>\n",
              "      <th>BIKE_STANDS</th>\n",
              "      <th>AVG_AVAILABLE_BIKES</th>\n",
              "      <th>AVG_AVAILABLE_BIKE_STANDS</th>\n",
              "      <th>AVG_DAILY_BIKES_IN</th>\n",
              "      <th>AVG_DAILY_BIKES_OUT</th>\n",
              "      <th>TOTAL_ROWS</th>\n",
              "      <th>NO._ROWS_WITH_ZERO_BIKES</th>\n",
              "      <th>ZERO_BIKES_PERCENTAGE</th>\n",
              "      <th>NO._ROWS_WITH_ZERO_BIKE_STANDS</th>\n",
              "      <th>ZERO_BIKE_STANDS_PERCENTAGE</th>\n",
              "    </tr>\n",
              "  </thead>\n",
              "  <tbody>\n",
              "    <tr>\n",
              "      <th>count</th>\n",
              "      <td>112.000000</td>\n",
              "      <td>112.000000</td>\n",
              "      <td>112.000000</td>\n",
              "      <td>112.000000</td>\n",
              "      <td>112.000000</td>\n",
              "      <td>112.000000</td>\n",
              "      <td>112.000000</td>\n",
              "      <td>112.000000</td>\n",
              "      <td>112.000000</td>\n",
              "      <td>112.000000</td>\n",
              "      <td>112.000000</td>\n",
              "      <td>112.000000</td>\n",
              "      <td>112.000000</td>\n",
              "    </tr>\n",
              "    <tr>\n",
              "      <th>mean</th>\n",
              "      <td>57.633929</td>\n",
              "      <td>53.345225</td>\n",
              "      <td>-6.264094</td>\n",
              "      <td>31.955357</td>\n",
              "      <td>11.529377</td>\n",
              "      <td>20.039688</td>\n",
              "      <td>47.933326</td>\n",
              "      <td>47.953114</td>\n",
              "      <td>229927.008929</td>\n",
              "      <td>30635.776786</td>\n",
              "      <td>0.134890</td>\n",
              "      <td>10082.901786</td>\n",
              "      <td>0.046450</td>\n",
              "    </tr>\n",
              "    <tr>\n",
              "      <th>std</th>\n",
              "      <td>33.207238</td>\n",
              "      <td>0.007436</td>\n",
              "      <td>0.018347</td>\n",
              "      <td>7.549701</td>\n",
              "      <td>4.027805</td>\n",
              "      <td>6.312447</td>\n",
              "      <td>21.424451</td>\n",
              "      <td>21.408680</td>\n",
              "      <td>33493.017288</td>\n",
              "      <td>15365.493289</td>\n",
              "      <td>0.070626</td>\n",
              "      <td>9957.252686</td>\n",
              "      <td>0.054475</td>\n",
              "    </tr>\n",
              "    <tr>\n",
              "      <th>min</th>\n",
              "      <td>1.000000</td>\n",
              "      <td>53.330090</td>\n",
              "      <td>-6.310015</td>\n",
              "      <td>16.000000</td>\n",
              "      <td>3.133759</td>\n",
              "      <td>7.839898</td>\n",
              "      <td>9.581121</td>\n",
              "      <td>9.560472</td>\n",
              "      <td>50403.000000</td>\n",
              "      <td>3467.000000</td>\n",
              "      <td>0.015787</td>\n",
              "      <td>75.000000</td>\n",
              "      <td>0.000314</td>\n",
              "    </tr>\n",
              "    <tr>\n",
              "      <th>25%</th>\n",
              "      <td>29.750000</td>\n",
              "      <td>53.339930</td>\n",
              "      <td>-6.274056</td>\n",
              "      <td>29.000000</td>\n",
              "      <td>8.480197</td>\n",
              "      <td>14.436662</td>\n",
              "      <td>31.275382</td>\n",
              "      <td>31.348225</td>\n",
              "      <td>238673.750000</td>\n",
              "      <td>19839.000000</td>\n",
              "      <td>0.089954</td>\n",
              "      <td>3832.750000</td>\n",
              "      <td>0.016049</td>\n",
              "    </tr>\n",
              "    <tr>\n",
              "      <th>50%</th>\n",
              "      <td>57.500000</td>\n",
              "      <td>53.344228</td>\n",
              "      <td>-6.262741</td>\n",
              "      <td>30.000000</td>\n",
              "      <td>11.357393</td>\n",
              "      <td>19.634778</td>\n",
              "      <td>42.243772</td>\n",
              "      <td>42.172598</td>\n",
              "      <td>238769.000000</td>\n",
              "      <td>27569.500000</td>\n",
              "      <td>0.122474</td>\n",
              "      <td>6537.000000</td>\n",
              "      <td>0.028289</td>\n",
              "    </tr>\n",
              "    <tr>\n",
              "      <th>75%</th>\n",
              "      <td>85.250000</td>\n",
              "      <td>53.349152</td>\n",
              "      <td>-6.251393</td>\n",
              "      <td>40.000000</td>\n",
              "      <td>14.615104</td>\n",
              "      <td>24.938460</td>\n",
              "      <td>61.553084</td>\n",
              "      <td>61.695136</td>\n",
              "      <td>238799.250000</td>\n",
              "      <td>41136.000000</td>\n",
              "      <td>0.175223</td>\n",
              "      <td>14019.250000</td>\n",
              "      <td>0.063463</td>\n",
              "    </tr>\n",
              "    <tr>\n",
              "      <th>max</th>\n",
              "      <td>117.000000</td>\n",
              "      <td>53.359966</td>\n",
              "      <td>-6.230852</td>\n",
              "      <td>40.000000</td>\n",
              "      <td>22.414427</td>\n",
              "      <td>32.650055</td>\n",
              "      <td>103.176750</td>\n",
              "      <td>103.304864</td>\n",
              "      <td>238822.000000</td>\n",
              "      <td>68802.000000</td>\n",
              "      <td>0.499633</td>\n",
              "      <td>62051.000000</td>\n",
              "      <td>0.450608</td>\n",
              "    </tr>\n",
              "  </tbody>\n",
              "</table>\n",
              "</div>"
            ],
            "text/plain": [
              "       STATION_ID  ...  ZERO_BIKE_STANDS_PERCENTAGE\n",
              "count  112.000000  ...                   112.000000\n",
              "mean    57.633929  ...                     0.046450\n",
              "std     33.207238  ...                     0.054475\n",
              "min      1.000000  ...                     0.000314\n",
              "25%     29.750000  ...                     0.016049\n",
              "50%     57.500000  ...                     0.028289\n",
              "75%     85.250000  ...                     0.063463\n",
              "max    117.000000  ...                     0.450608\n",
              "\n",
              "[8 rows x 13 columns]"
            ]
          },
          "metadata": {
            "tags": []
          },
          "execution_count": 61
        }
      ]
    },
    {
      "cell_type": "code",
      "metadata": {
        "colab": {
          "base_uri": "https://localhost:8080/",
          "height": 287
        },
        "id": "Lz6buCTrbMyd",
        "outputId": "b830808d-7333-4a23-8c85-e177a3cf4b31"
      },
      "source": [
        "station_features_df[['STATION_ID','BIKE_STANDS','AVG_AVAILABLE_BIKES',\t'AVG_DAILY_BIKES_OUT',\t'ZERO_BIKES_PERCENTAGE','ZERO_BIKE_STANDS_PERCENTAGE']].describe()"
      ],
      "execution_count": null,
      "outputs": [
        {
          "output_type": "execute_result",
          "data": {
            "text/html": [
              "<div>\n",
              "<style scoped>\n",
              "    .dataframe tbody tr th:only-of-type {\n",
              "        vertical-align: middle;\n",
              "    }\n",
              "\n",
              "    .dataframe tbody tr th {\n",
              "        vertical-align: top;\n",
              "    }\n",
              "\n",
              "    .dataframe thead th {\n",
              "        text-align: right;\n",
              "    }\n",
              "</style>\n",
              "<table border=\"1\" class=\"dataframe\">\n",
              "  <thead>\n",
              "    <tr style=\"text-align: right;\">\n",
              "      <th></th>\n",
              "      <th>STATION_ID</th>\n",
              "      <th>BIKE_STANDS</th>\n",
              "      <th>AVG_AVAILABLE_BIKES</th>\n",
              "      <th>AVG_DAILY_BIKES_OUT</th>\n",
              "      <th>ZERO_BIKES_PERCENTAGE</th>\n",
              "      <th>ZERO_BIKE_STANDS_PERCENTAGE</th>\n",
              "    </tr>\n",
              "  </thead>\n",
              "  <tbody>\n",
              "    <tr>\n",
              "      <th>count</th>\n",
              "      <td>112.000000</td>\n",
              "      <td>112.000000</td>\n",
              "      <td>112.000000</td>\n",
              "      <td>112.000000</td>\n",
              "      <td>112.000000</td>\n",
              "      <td>112.000000</td>\n",
              "    </tr>\n",
              "    <tr>\n",
              "      <th>mean</th>\n",
              "      <td>57.633929</td>\n",
              "      <td>31.955357</td>\n",
              "      <td>11.529377</td>\n",
              "      <td>47.953114</td>\n",
              "      <td>0.134890</td>\n",
              "      <td>0.046450</td>\n",
              "    </tr>\n",
              "    <tr>\n",
              "      <th>std</th>\n",
              "      <td>33.207238</td>\n",
              "      <td>7.549701</td>\n",
              "      <td>4.027805</td>\n",
              "      <td>21.408680</td>\n",
              "      <td>0.070626</td>\n",
              "      <td>0.054475</td>\n",
              "    </tr>\n",
              "    <tr>\n",
              "      <th>min</th>\n",
              "      <td>1.000000</td>\n",
              "      <td>16.000000</td>\n",
              "      <td>3.133759</td>\n",
              "      <td>9.560472</td>\n",
              "      <td>0.015787</td>\n",
              "      <td>0.000314</td>\n",
              "    </tr>\n",
              "    <tr>\n",
              "      <th>25%</th>\n",
              "      <td>29.750000</td>\n",
              "      <td>29.000000</td>\n",
              "      <td>8.480197</td>\n",
              "      <td>31.348225</td>\n",
              "      <td>0.089954</td>\n",
              "      <td>0.016049</td>\n",
              "    </tr>\n",
              "    <tr>\n",
              "      <th>50%</th>\n",
              "      <td>57.500000</td>\n",
              "      <td>30.000000</td>\n",
              "      <td>11.357393</td>\n",
              "      <td>42.172598</td>\n",
              "      <td>0.122474</td>\n",
              "      <td>0.028289</td>\n",
              "    </tr>\n",
              "    <tr>\n",
              "      <th>75%</th>\n",
              "      <td>85.250000</td>\n",
              "      <td>40.000000</td>\n",
              "      <td>14.615104</td>\n",
              "      <td>61.695136</td>\n",
              "      <td>0.175223</td>\n",
              "      <td>0.063463</td>\n",
              "    </tr>\n",
              "    <tr>\n",
              "      <th>max</th>\n",
              "      <td>117.000000</td>\n",
              "      <td>40.000000</td>\n",
              "      <td>22.414427</td>\n",
              "      <td>103.304864</td>\n",
              "      <td>0.499633</td>\n",
              "      <td>0.450608</td>\n",
              "    </tr>\n",
              "  </tbody>\n",
              "</table>\n",
              "</div>"
            ],
            "text/plain": [
              "       STATION_ID  ...  ZERO_BIKE_STANDS_PERCENTAGE\n",
              "count  112.000000  ...                   112.000000\n",
              "mean    57.633929  ...                     0.046450\n",
              "std     33.207238  ...                     0.054475\n",
              "min      1.000000  ...                     0.000314\n",
              "25%     29.750000  ...                     0.016049\n",
              "50%     57.500000  ...                     0.028289\n",
              "75%     85.250000  ...                     0.063463\n",
              "max    117.000000  ...                     0.450608\n",
              "\n",
              "[8 rows x 6 columns]"
            ]
          },
          "metadata": {
            "tags": []
          },
          "execution_count": 62
        }
      ]
    },
    {
      "cell_type": "code",
      "metadata": {
        "colab": {
          "base_uri": "https://localhost:8080/",
          "height": 424
        },
        "id": "AstkkjybWG3K",
        "outputId": "fc67195e-40d0-43f1-9494-b7566502c3f2"
      },
      "source": [
        "# Crowded stations (lack of available bikes)\n",
        "station_features_df[station_features_df['ZERO_BIKES_PERCENTAGE'] >= 0.25].sort_values('ZERO_BIKES_PERCENTAGE', ascending=False)"
      ],
      "execution_count": null,
      "outputs": [
        {
          "output_type": "execute_result",
          "data": {
            "text/html": [
              "<div>\n",
              "<style scoped>\n",
              "    .dataframe tbody tr th:only-of-type {\n",
              "        vertical-align: middle;\n",
              "    }\n",
              "\n",
              "    .dataframe tbody tr th {\n",
              "        vertical-align: top;\n",
              "    }\n",
              "\n",
              "    .dataframe thead th {\n",
              "        text-align: right;\n",
              "    }\n",
              "</style>\n",
              "<table border=\"1\" class=\"dataframe\">\n",
              "  <thead>\n",
              "    <tr style=\"text-align: right;\">\n",
              "      <th></th>\n",
              "      <th>STATION_ID</th>\n",
              "      <th>NAME</th>\n",
              "      <th>ADDRESS</th>\n",
              "      <th>LATITUDE</th>\n",
              "      <th>LONGITUDE</th>\n",
              "      <th>BIKE_STANDS</th>\n",
              "      <th>AVG_AVAILABLE_BIKES</th>\n",
              "      <th>AVG_AVAILABLE_BIKE_STANDS</th>\n",
              "      <th>AVG_DAILY_BIKES_IN</th>\n",
              "      <th>AVG_DAILY_BIKES_OUT</th>\n",
              "      <th>TOTAL_ROWS</th>\n",
              "      <th>NO._ROWS_WITH_ZERO_BIKES</th>\n",
              "      <th>ZERO_BIKES_PERCENTAGE</th>\n",
              "      <th>NO._ROWS_WITH_ZERO_BIKE_STANDS</th>\n",
              "      <th>ZERO_BIKE_STANDS_PERCENTAGE</th>\n",
              "    </tr>\n",
              "  </thead>\n",
              "  <tbody>\n",
              "    <tr>\n",
              "      <th>33</th>\n",
              "      <td>35</td>\n",
              "      <td>SMITHFIELD</td>\n",
              "      <td>Smithfield</td>\n",
              "      <td>53.347690</td>\n",
              "      <td>-6.278214</td>\n",
              "      <td>30</td>\n",
              "      <td>5.923380</td>\n",
              "      <td>10.658974</td>\n",
              "      <td>40.791753</td>\n",
              "      <td>40.814433</td>\n",
              "      <td>137705</td>\n",
              "      <td>68802</td>\n",
              "      <td>0.499633</td>\n",
              "      <td>62051</td>\n",
              "      <td>0.450608</td>\n",
              "    </tr>\n",
              "    <tr>\n",
              "      <th>10</th>\n",
              "      <td>11</td>\n",
              "      <td>EARLSFORT TERRACE</td>\n",
              "      <td>Earlsfort Terrace</td>\n",
              "      <td>53.334020</td>\n",
              "      <td>-6.258371</td>\n",
              "      <td>30</td>\n",
              "      <td>6.421176</td>\n",
              "      <td>23.527527</td>\n",
              "      <td>31.737841</td>\n",
              "      <td>31.621590</td>\n",
              "      <td>238570</td>\n",
              "      <td>67231</td>\n",
              "      <td>0.281808</td>\n",
              "      <td>3356</td>\n",
              "      <td>0.014067</td>\n",
              "    </tr>\n",
              "    <tr>\n",
              "      <th>25</th>\n",
              "      <td>27</td>\n",
              "      <td>MOLESWORTH STREET</td>\n",
              "      <td>Molesworth Street</td>\n",
              "      <td>53.341290</td>\n",
              "      <td>-6.258117</td>\n",
              "      <td>20</td>\n",
              "      <td>7.431260</td>\n",
              "      <td>12.517283</td>\n",
              "      <td>45.217082</td>\n",
              "      <td>45.058126</td>\n",
              "      <td>238668</td>\n",
              "      <td>65596</td>\n",
              "      <td>0.274842</td>\n",
              "      <td>15222</td>\n",
              "      <td>0.063779</td>\n",
              "    </tr>\n",
              "    <tr>\n",
              "      <th>53</th>\n",
              "      <td>55</td>\n",
              "      <td>HATCH STREET</td>\n",
              "      <td>Hatch Street</td>\n",
              "      <td>53.334030</td>\n",
              "      <td>-6.260714</td>\n",
              "      <td>36</td>\n",
              "      <td>6.550352</td>\n",
              "      <td>29.067253</td>\n",
              "      <td>27.310795</td>\n",
              "      <td>27.196916</td>\n",
              "      <td>238591</td>\n",
              "      <td>65251</td>\n",
              "      <td>0.273485</td>\n",
              "      <td>2729</td>\n",
              "      <td>0.011438</td>\n",
              "    </tr>\n",
              "    <tr>\n",
              "      <th>28</th>\n",
              "      <td>30</td>\n",
              "      <td>PARNELL SQUARE NORTH</td>\n",
              "      <td>Parnell Square North</td>\n",
              "      <td>53.353462</td>\n",
              "      <td>-6.265305</td>\n",
              "      <td>20</td>\n",
              "      <td>3.133759</td>\n",
              "      <td>16.839638</td>\n",
              "      <td>23.303677</td>\n",
              "      <td>23.334520</td>\n",
              "      <td>238660</td>\n",
              "      <td>65182</td>\n",
              "      <td>0.273117</td>\n",
              "      <td>512</td>\n",
              "      <td>0.002145</td>\n",
              "    </tr>\n",
              "    <tr>\n",
              "      <th>14</th>\n",
              "      <td>15</td>\n",
              "      <td>HARDWICKE STREET</td>\n",
              "      <td>Hardwicke Street</td>\n",
              "      <td>53.355473</td>\n",
              "      <td>-6.264423</td>\n",
              "      <td>16</td>\n",
              "      <td>3.488709</td>\n",
              "      <td>12.494564</td>\n",
              "      <td>24.569395</td>\n",
              "      <td>24.669039</td>\n",
              "      <td>238772</td>\n",
              "      <td>62890</td>\n",
              "      <td>0.263389</td>\n",
              "      <td>1042</td>\n",
              "      <td>0.004364</td>\n",
              "    </tr>\n",
              "    <tr>\n",
              "      <th>96</th>\n",
              "      <td>98</td>\n",
              "      <td>FREDERICK STREET SOUTH</td>\n",
              "      <td>Frederick Street South</td>\n",
              "      <td>53.341515</td>\n",
              "      <td>-6.256853</td>\n",
              "      <td>40</td>\n",
              "      <td>11.678553</td>\n",
              "      <td>25.612134</td>\n",
              "      <td>25.115202</td>\n",
              "      <td>25.220903</td>\n",
              "      <td>238263</td>\n",
              "      <td>61887</td>\n",
              "      <td>0.259742</td>\n",
              "      <td>19718</td>\n",
              "      <td>0.082757</td>\n",
              "    </tr>\n",
              "    <tr>\n",
              "      <th>5</th>\n",
              "      <td>6</td>\n",
              "      <td>CHRISTCHURCH PLACE</td>\n",
              "      <td>Christchurch Place</td>\n",
              "      <td>53.343370</td>\n",
              "      <td>-6.270120</td>\n",
              "      <td>20</td>\n",
              "      <td>5.437884</td>\n",
              "      <td>14.505111</td>\n",
              "      <td>38.446026</td>\n",
              "      <td>38.376038</td>\n",
              "      <td>238700</td>\n",
              "      <td>60936</td>\n",
              "      <td>0.255283</td>\n",
              "      <td>6403</td>\n",
              "      <td>0.026824</td>\n",
              "    </tr>\n",
              "  </tbody>\n",
              "</table>\n",
              "</div>"
            ],
            "text/plain": [
              "    STATION_ID  ... ZERO_BIKE_STANDS_PERCENTAGE\n",
              "33          35  ...                    0.450608\n",
              "10          11  ...                    0.014067\n",
              "25          27  ...                    0.063779\n",
              "53          55  ...                    0.011438\n",
              "28          30  ...                    0.002145\n",
              "14          15  ...                    0.004364\n",
              "96          98  ...                    0.082757\n",
              "5            6  ...                    0.026824\n",
              "\n",
              "[8 rows x 15 columns]"
            ]
          },
          "metadata": {
            "tags": []
          },
          "execution_count": 63
        }
      ]
    },
    {
      "cell_type": "code",
      "metadata": {
        "colab": {
          "base_uri": "https://localhost:8080/",
          "height": 224
        },
        "id": "aCtKXdVVZokh",
        "outputId": "ff96fd92-9d0f-4729-e910-b3d32b727279"
      },
      "source": [
        "# Quiet stations (maybe too many available bikes)\n",
        "station_features_df[station_features_df['ZERO_BIKES_PERCENTAGE'] < 0.03].sort_values('ZERO_BIKES_PERCENTAGE', ascending=False)"
      ],
      "execution_count": null,
      "outputs": [
        {
          "output_type": "execute_result",
          "data": {
            "text/html": [
              "<div>\n",
              "<style scoped>\n",
              "    .dataframe tbody tr th:only-of-type {\n",
              "        vertical-align: middle;\n",
              "    }\n",
              "\n",
              "    .dataframe tbody tr th {\n",
              "        vertical-align: top;\n",
              "    }\n",
              "\n",
              "    .dataframe thead th {\n",
              "        text-align: right;\n",
              "    }\n",
              "</style>\n",
              "<table border=\"1\" class=\"dataframe\">\n",
              "  <thead>\n",
              "    <tr style=\"text-align: right;\">\n",
              "      <th></th>\n",
              "      <th>STATION_ID</th>\n",
              "      <th>NAME</th>\n",
              "      <th>ADDRESS</th>\n",
              "      <th>LATITUDE</th>\n",
              "      <th>LONGITUDE</th>\n",
              "      <th>BIKE_STANDS</th>\n",
              "      <th>AVG_AVAILABLE_BIKES</th>\n",
              "      <th>AVG_AVAILABLE_BIKE_STANDS</th>\n",
              "      <th>AVG_DAILY_BIKES_IN</th>\n",
              "      <th>AVG_DAILY_BIKES_OUT</th>\n",
              "      <th>TOTAL_ROWS</th>\n",
              "      <th>NO._ROWS_WITH_ZERO_BIKES</th>\n",
              "      <th>ZERO_BIKES_PERCENTAGE</th>\n",
              "      <th>NO._ROWS_WITH_ZERO_BIKE_STANDS</th>\n",
              "      <th>ZERO_BIKE_STANDS_PERCENTAGE</th>\n",
              "    </tr>\n",
              "  </thead>\n",
              "  <tbody>\n",
              "    <tr>\n",
              "      <th>62</th>\n",
              "      <td>64</td>\n",
              "      <td>SANDWITH STREET</td>\n",
              "      <td>Sandwith Street</td>\n",
              "      <td>53.345203</td>\n",
              "      <td>-6.247163</td>\n",
              "      <td>40</td>\n",
              "      <td>17.352921</td>\n",
              "      <td>22.581409</td>\n",
              "      <td>53.014235</td>\n",
              "      <td>52.984579</td>\n",
              "      <td>238801</td>\n",
              "      <td>6906</td>\n",
              "      <td>0.028919</td>\n",
              "      <td>4266</td>\n",
              "      <td>0.017864</td>\n",
              "    </tr>\n",
              "    <tr>\n",
              "      <th>65</th>\n",
              "      <td>67</td>\n",
              "      <td>THE POINT</td>\n",
              "      <td>The Point</td>\n",
              "      <td>53.346867</td>\n",
              "      <td>-6.230852</td>\n",
              "      <td>40</td>\n",
              "      <td>17.796681</td>\n",
              "      <td>22.128042</td>\n",
              "      <td>64.587189</td>\n",
              "      <td>64.529063</td>\n",
              "      <td>238812</td>\n",
              "      <td>4586</td>\n",
              "      <td>0.019203</td>\n",
              "      <td>3250</td>\n",
              "      <td>0.013609</td>\n",
              "    </tr>\n",
              "    <tr>\n",
              "      <th>89</th>\n",
              "      <td>91</td>\n",
              "      <td>SOUTH DOCK ROAD</td>\n",
              "      <td>South Dock Road</td>\n",
              "      <td>53.341830</td>\n",
              "      <td>-6.231291</td>\n",
              "      <td>30</td>\n",
              "      <td>16.715876</td>\n",
              "      <td>13.225216</td>\n",
              "      <td>67.275208</td>\n",
              "      <td>67.462633</td>\n",
              "      <td>238811</td>\n",
              "      <td>3770</td>\n",
              "      <td>0.015787</td>\n",
              "      <td>11488</td>\n",
              "      <td>0.048105</td>\n",
              "    </tr>\n",
              "  </tbody>\n",
              "</table>\n",
              "</div>"
            ],
            "text/plain": [
              "    STATION_ID  ... ZERO_BIKE_STANDS_PERCENTAGE\n",
              "62          64  ...                    0.017864\n",
              "65          67  ...                    0.013609\n",
              "89          91  ...                    0.048105\n",
              "\n",
              "[3 rows x 15 columns]"
            ]
          },
          "metadata": {
            "tags": []
          },
          "execution_count": 64
        }
      ]
    },
    {
      "cell_type": "markdown",
      "metadata": {
        "id": "bjyGDbn9Xpx3"
      },
      "source": [
        "**Evaluation:**\n",
        "\n",
        "The station \"SMITHFIELD\" (ID = 35) has a significant ZERO_BIKES_PERCENTAGE (49%). In my opinion, they should bring more bikes (get from quiet stations which have ZERO_BIKES_PERCENTAGE < 3%) to this station. And also consider redistributing the bike to the remainning list of crowded stations with ZERO_BIKES_PERCENTAGE >= 25%  "
      ]
    },
    {
      "cell_type": "markdown",
      "metadata": {
        "id": "1Ng1dZHzpFYd"
      },
      "source": [
        "### 4.5.2. Clustering stations into 5 groups\n",
        "\n",
        "Clustering into 5 levels of traffic (Very Low, Low, Medium, High, and Very High) based on 2 features of stations: BIKE_STANDS and AVG_DAILY_BIKES_OUT)"
      ]
    },
    {
      "cell_type": "markdown",
      "metadata": {
        "id": "kaXaySdc0smp"
      },
      "source": [
        "#### 4.5.2.1. Using K-Means"
      ]
    },
    {
      "cell_type": "code",
      "metadata": {
        "colab": {
          "base_uri": "https://localhost:8080/",
          "height": 447
        },
        "id": "cMB_R3V-ply-",
        "outputId": "3aa730d4-90f9-4fba-b92a-e90c0f5b09ad"
      },
      "source": [
        "# Convert station_features_df data to an Array for K-Means processing\n",
        "# Initial a List\n",
        "data = []\n",
        "# Loop all rows of station_features_df and append these data to the List \"data\"\n",
        "for i in station_features_df.index:\n",
        "  data.append([station_features_df['BIKE_STANDS'][i],station_features_df['AVG_DAILY_BIKES_OUT'][i]])\n",
        "# Conver a List to an Array\n",
        "data = np.array(data)\n",
        "\n",
        "# Import libraries for K-Means\n",
        "from sklearn.cluster import KMeans\n",
        "from sklearn.preprocessing import scale\n",
        "from numpy import float\n",
        "\n",
        "# Initial K-Means model with 5 clustering (the model will cluster the input data into 5 groups)\n",
        "model = KMeans(n_clusters=5)\n",
        "# Scale the data to normalize it for good results\n",
        "model = model.fit(scale(data))\n",
        "# We can look at the clusters each data point was assigned to\n",
        "print(model.labels_)\n",
        "\n",
        "# And finally, we'll visualize it:\n",
        "plt.figure(figsize=(8, 6))\n",
        "plt.scatter(data[:,0], data[:,1], c=model.labels_.astype(float))\n",
        "plt.show()"
      ],
      "execution_count": null,
      "outputs": [
        {
          "output_type": "stream",
          "text": [
            "[1 2 2 2 3 2 4 1 1 2 4 2 4 1 2 2 2 1 1 4 2 1 1 4 2 2 1 1 2 1 1 1 1 4 0 4 3\n",
            " 2 2 2 1 1 1 4 4 0 3 3 3 0 4 0 4 0 3 2 3 2 1 2 0 4 0 0 3 3 3 3 1 0 4 4 4 0\n",
            " 0 4 0 4 0 0 2 0 4 4 0 0 4 0 0 1 0 0 0 0 4 0 0 4 1 4 0 0 0 0 4 0 0 1 0 0 4\n",
            " 0]\n"
          ],
          "name": "stdout"
        },
        {
          "output_type": "display_data",
          "data": {
            "image/png": "[encoded data removed]",
            "text/plain": [
              "<Figure size 576x432 with 1 Axes>"
            ]
          },
          "metadata": {
            "tags": []
          }
        }
      ]
    },
    {
      "cell_type": "markdown",
      "metadata": {
        "id": "jv_gVobI03zA"
      },
      "source": [
        "#### 4.5.2.2. Using Support Vector Machines"
      ]
    },
    {
      "cell_type": "code",
      "metadata": {
        "colab": {
          "base_uri": "https://localhost:8080/",
          "height": 394
        },
        "id": "82eMqyrNz5lH",
        "outputId": "479fee5b-2fd3-4f19-c9ec-e4a0c79a5202"
      },
      "source": [
        "# Interit the data and model of K-Means Clustering\n",
        "X = data\n",
        "y = model.labels_\n",
        "\n",
        "# Import SVM library \n",
        "from sklearn import svm\n",
        "\n",
        "# Initial linear SVC\n",
        "C = 1.0\n",
        "svc = svm.SVC(kernel='linear', C=C).fit(X, y)\n",
        "\n",
        "# Render the regions of each cluster as distinct colors\n",
        "xx, yy = np.meshgrid(np.arange(12, 45, 0.2),np.arange(0, 120, 0.2))\n",
        "Z = svc.predict(np.c_[xx.ravel(), yy.ravel()])\n",
        "plt.figure(figsize=(8, 6))\n",
        "Z = Z.reshape(xx.shape)\n",
        "plt.contourf(xx, yy, Z, cmap=plt.cm.Paired, alpha=0.8)\n",
        "plt.scatter(X[:,0], X[:,1], c=y.astype(np.float))\n",
        "plt.xlabel('Bike stands')\n",
        "plt.ylabel('Average daily bikes in use')\n",
        "plt.show()"
      ],
      "execution_count": null,
      "outputs": [
        {
          "output_type": "display_data",
          "data": {
            "image/png": "[encoded data removed]",
            "text/plain": [
              "<Figure size 576x432 with 1 Axes>"
            ]
          },
          "metadata": {
            "tags": []
          }
        }
      ]
    }
  ]
}